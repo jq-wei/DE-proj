{
 "cells": [
  {
   "cell_type": "code",
   "execution_count": 1,
   "metadata": {},
   "outputs": [
    {
     "name": "stdout",
     "output_type": "stream",
     "text": [
      "Requirement already satisfied: pandas in /home/jieqiang/miniconda3/lib/python3.13/site-packages (2.3.0)\n",
      "Requirement already satisfied: scikit-learn in /home/jieqiang/miniconda3/lib/python3.13/site-packages (1.7.0)\n",
      "Requirement already satisfied: matplotlib in /home/jieqiang/miniconda3/lib/python3.13/site-packages (3.10.3)\n",
      "Requirement already satisfied: seaborn in /home/jieqiang/miniconda3/lib/python3.13/site-packages (0.13.2)\n",
      "Requirement already satisfied: librosa in /home/jieqiang/miniconda3/lib/python3.13/site-packages (0.11.0)\n",
      "Requirement already satisfied: numpy>=1.26.0 in /home/jieqiang/miniconda3/lib/python3.13/site-packages (from pandas) (2.2.6)\n",
      "Requirement already satisfied: python-dateutil>=2.8.2 in /home/jieqiang/miniconda3/lib/python3.13/site-packages (from pandas) (2.9.0.post0)\n",
      "Requirement already satisfied: pytz>=2020.1 in /home/jieqiang/miniconda3/lib/python3.13/site-packages (from pandas) (2025.2)\n",
      "Requirement already satisfied: tzdata>=2022.7 in /home/jieqiang/miniconda3/lib/python3.13/site-packages (from pandas) (2025.2)\n",
      "Requirement already satisfied: scipy>=1.8.0 in /home/jieqiang/miniconda3/lib/python3.13/site-packages (from scikit-learn) (1.15.3)\n",
      "Requirement already satisfied: joblib>=1.2.0 in /home/jieqiang/miniconda3/lib/python3.13/site-packages (from scikit-learn) (1.5.1)\n",
      "Requirement already satisfied: threadpoolctl>=3.1.0 in /home/jieqiang/miniconda3/lib/python3.13/site-packages (from scikit-learn) (3.6.0)\n",
      "Requirement already satisfied: contourpy>=1.0.1 in /home/jieqiang/miniconda3/lib/python3.13/site-packages (from matplotlib) (1.3.2)\n",
      "Requirement already satisfied: cycler>=0.10 in /home/jieqiang/miniconda3/lib/python3.13/site-packages (from matplotlib) (0.12.1)\n",
      "Requirement already satisfied: fonttools>=4.22.0 in /home/jieqiang/miniconda3/lib/python3.13/site-packages (from matplotlib) (4.58.2)\n",
      "Requirement already satisfied: kiwisolver>=1.3.1 in /home/jieqiang/miniconda3/lib/python3.13/site-packages (from matplotlib) (1.4.8)\n",
      "Requirement already satisfied: packaging>=20.0 in /home/jieqiang/miniconda3/lib/python3.13/site-packages (from matplotlib) (24.2)\n",
      "Requirement already satisfied: pillow>=8 in /home/jieqiang/miniconda3/lib/python3.13/site-packages (from matplotlib) (11.2.1)\n",
      "Requirement already satisfied: pyparsing>=2.3.1 in /home/jieqiang/miniconda3/lib/python3.13/site-packages (from matplotlib) (3.2.3)\n",
      "Requirement already satisfied: audioread>=2.1.9 in /home/jieqiang/miniconda3/lib/python3.13/site-packages (from librosa) (3.0.1)\n",
      "Requirement already satisfied: numba>=0.51.0 in /home/jieqiang/miniconda3/lib/python3.13/site-packages (from librosa) (0.61.2)\n",
      "Requirement already satisfied: decorator>=4.3.0 in /home/jieqiang/miniconda3/lib/python3.13/site-packages (from librosa) (5.2.1)\n",
      "Requirement already satisfied: soundfile>=0.12.1 in /home/jieqiang/miniconda3/lib/python3.13/site-packages (from librosa) (0.13.1)\n",
      "Requirement already satisfied: pooch>=1.1 in /home/jieqiang/miniconda3/lib/python3.13/site-packages (from librosa) (1.8.2)\n",
      "Requirement already satisfied: soxr>=0.3.2 in /home/jieqiang/miniconda3/lib/python3.13/site-packages (from librosa) (0.5.0.post1)\n",
      "Requirement already satisfied: typing_extensions>=4.1.1 in /home/jieqiang/miniconda3/lib/python3.13/site-packages (from librosa) (4.12.2)\n",
      "Requirement already satisfied: lazy_loader>=0.1 in /home/jieqiang/miniconda3/lib/python3.13/site-packages (from librosa) (0.4)\n",
      "Requirement already satisfied: msgpack>=1.0 in /home/jieqiang/miniconda3/lib/python3.13/site-packages (from librosa) (1.1.0)\n",
      "Requirement already satisfied: standard-aifc in /home/jieqiang/miniconda3/lib/python3.13/site-packages (from librosa) (3.13.0)\n",
      "Requirement already satisfied: standard-sunau in /home/jieqiang/miniconda3/lib/python3.13/site-packages (from librosa) (3.13.0)\n",
      "Requirement already satisfied: llvmlite<0.45,>=0.44.0dev0 in /home/jieqiang/miniconda3/lib/python3.13/site-packages (from numba>=0.51.0->librosa) (0.44.0)\n",
      "Requirement already satisfied: platformdirs>=2.5.0 in /home/jieqiang/miniconda3/lib/python3.13/site-packages (from pooch>=1.1->librosa) (4.3.7)\n",
      "Requirement already satisfied: requests>=2.19.0 in /home/jieqiang/miniconda3/lib/python3.13/site-packages (from pooch>=1.1->librosa) (2.32.3)\n",
      "Requirement already satisfied: six>=1.5 in /home/jieqiang/miniconda3/lib/python3.13/site-packages (from python-dateutil>=2.8.2->pandas) (1.17.0)\n",
      "Requirement already satisfied: cffi>=1.0 in /home/jieqiang/miniconda3/lib/python3.13/site-packages (from soundfile>=0.12.1->librosa) (1.17.1)\n",
      "Requirement already satisfied: standard-chunk in /home/jieqiang/miniconda3/lib/python3.13/site-packages (from standard-aifc->librosa) (3.13.0)\n",
      "Requirement already satisfied: audioop-lts in /home/jieqiang/miniconda3/lib/python3.13/site-packages (from standard-aifc->librosa) (0.2.1)\n",
      "Requirement already satisfied: pycparser in /home/jieqiang/miniconda3/lib/python3.13/site-packages (from cffi>=1.0->soundfile>=0.12.1->librosa) (2.21)\n",
      "Requirement already satisfied: charset-normalizer<4,>=2 in /home/jieqiang/miniconda3/lib/python3.13/site-packages (from requests>=2.19.0->pooch>=1.1->librosa) (3.3.2)\n",
      "Requirement already satisfied: idna<4,>=2.5 in /home/jieqiang/miniconda3/lib/python3.13/site-packages (from requests>=2.19.0->pooch>=1.1->librosa) (3.7)\n",
      "Requirement already satisfied: urllib3<3,>=1.21.1 in /home/jieqiang/miniconda3/lib/python3.13/site-packages (from requests>=2.19.0->pooch>=1.1->librosa) (2.3.0)\n",
      "Requirement already satisfied: certifi>=2017.4.17 in /home/jieqiang/miniconda3/lib/python3.13/site-packages (from requests>=2.19.0->pooch>=1.1->librosa) (2025.4.26)\n",
      "Note: you may need to restart the kernel to use updated packages.\n",
      "Requirement already satisfied: xgboost in /home/jieqiang/miniconda3/lib/python3.13/site-packages (3.0.2)\n",
      "Note: you may need to restart the kernel to use updated packages.\n",
      "Requirement already satisfied: lightgbm in /home/jieqiang/miniconda3/lib/python3.13/site-packages (4.6.0)\n",
      "Requirement already satisfied: numpy>=1.17.0 in /home/jieqiang/miniconda3/lib/python3.13/site-packages (from lightgbm) (2.2.6)\n",
      "Requirement already satisfied: scipy in /home/jieqiang/miniconda3/lib/python3.13/site-packages (from lightgbm) (1.15.3)\n",
      "Note: you may need to restart the kernel to use updated packages.\n"
     ]
    }
   ],
   "source": [
    "#!pip list\n",
    "%pip install pandas scikit-learn matplotlib seaborn librosa \n",
    "%pip install xgboost --no-deps\n",
    "%pip install lightgbm "
   ]
  },
  {
   "cell_type": "code",
   "execution_count": 2,
   "metadata": {},
   "outputs": [],
   "source": [
    "import pandas as pd\n",
    "import numpy as np\n",
    "import librosa\n",
    "from sklearn.model_selection import train_test_split\n",
    "from sklearn.ensemble import RandomForestClassifier\n",
    "from sklearn.metrics import accuracy_score, f1_score, roc_auc_score\n",
    "import matplotlib.pyplot as plt\n",
    "import seaborn as sns\n",
    "import ast\n",
    "\n",
    "import re\n",
    "\n",
    "from sklearn.preprocessing import StandardScaler\n",
    "from sklearn.impute import SimpleImputer"
   ]
  },
  {
   "cell_type": "markdown",
   "metadata": {},
   "source": [
    "# 1. Load raw data"
   ]
  },
  {
   "cell_type": "code",
   "execution_count": 3,
   "metadata": {},
   "outputs": [],
   "source": [
    "df = pd.read_csv('train_set.csv')\n"
   ]
  },
  {
   "cell_type": "code",
   "execution_count": 4,
   "metadata": {},
   "outputs": [
    {
     "data": {
      "application/vnd.microsoft.datawrangler.viewer.v0+json": {
       "columns": [
        {
         "name": "index",
         "rawType": "int64",
         "type": "integer"
        },
        {
         "name": "file",
         "rawType": "object",
         "type": "string"
        },
        {
         "name": "sampling_rate",
         "rawType": "int64",
         "type": "integer"
        },
        {
         "name": "channel_1",
         "rawType": "object",
         "type": "string"
        },
        {
         "name": "channel_2",
         "rawType": "object",
         "type": "string"
        },
        {
         "name": "ratios",
         "rawType": "object",
         "type": "string"
        },
        {
         "name": "label",
         "rawType": "int64",
         "type": "integer"
        }
       ],
       "ref": "f67fbfbe-486a-4387-bb47-4bab5fc7d037",
       "rows": [
        [
         "0",
         "8ab4ffda-6f7d-4fd8-9fc4-5d00e7798d43_22281325_241703935_14147_2124_2025-04-11T16:42:24.mp3",
         "8000",
         "{'segments': {'segment_1': {'f0_mean': 329.52702254792865, 'f0_std': 53.43857172641753, 'f0_min': 227.75828324510303, 'f0_max': 499.62194879118596, 'f0_range': 271.8636655460829, 'f0_slope': -0.021473353612276064, 'f0_rising_pct': 8.205689277899344, 'rms_mean': 0.005153318867087364, 'rms_std': 0.017160622403025627, 'rms_min': 1.0000000656873453e-05, 'rms_max': 0.10525815188884735, 'rms_range': 0.10524815188819048, 'db_mean': -71.87971496582031, 'db_std': 22.184696197509766, 'db_min': -80.44511413574219, 'db_max': 0.0, 'db_range': 80.44511413574219, 'formant1': 397.78475571990265, 'formant2': 901.5971276791744, 'voiced_ratio': 0.7372675828617623, 'speech_rate': 23.04453613500763, 'laughter': False}, 'segment_2': {'f0_mean': 340.65694145007035, 'f0_std': 34.65947019935531, 'f0_min': 229.0776735576574, 'f0_max': 496.74433811469765, 'f0_range': 267.66666455704024, 'f0_slope': -0.0024867972131923785, 'f0_rising_pct': 3.840245775729647, 'rms_mean': 0.0030886433087289333, 'rms_std': 0.013697975315153599, 'rms_min': 1.0000000656873453e-05, 'rms_max': 0.10326840728521347, 'rms_range': 0.1032584072845566, 'db_mean': -68.76219940185547, 'db_std': 19.185653686523438, 'db_min': -80.27935028076172, 'db_max': 0.0, 'db_range': 80.27935028076172, 'formant1': 398.8518409926879, 'formant2': 792.5247059006168, 'voiced_ratio': 0.5071409323632444, 'speech_rate': 15.851541303393406, 'laughter': False}, 'segment_3': {'f0_mean': 239.42296570168895, 'f0_std': 137.52936340336802, 'f0_min': 65.40639132514966, 'f0_max': 450.28451247858095, 'f0_range': 384.87812115343127, 'f0_slope': -0.2836527178010545, 'f0_rising_pct': 18.639798488664987, 'rms_mean': 0.007934343069791794, 'rms_std': 0.02075982838869095, 'rms_min': 1.000006068352377e-05, 'rms_max': 0.10753241926431656, 'rms_range': 0.10752241920363304, 'db_mean': -49.03154373168945, 'db_std': 18.207380294799805, 'db_min': -80.63072967529297, 'db_max': 0.0, 'db_range': 80.63072967529297, 'formant1': 419.7184269530789, 'formant2': 944.0205292491717, 'voiced_ratio': 0.10697925087577473, 'speech_rate': 3.3438125780415957, 'laughter': False}}, 'overall': {'f0_mean': 303.20230989989597, 'f0_std': 75.20913510971361, 'f0_min': 65.40639132514966, 'f0_max': 499.62194879118596, 'f0_range': 434.21555746603633, 'f0_slope': -0.10253762287550765, 'f0_rising_pct': 10.228577847431326, 'rms_mean': 0.005392101748536031, 'rms_std': 0.01720614203562339, 'rms_min': 1.0000000656873453e-05, 'rms_max': 0.10753241926431656, 'rms_range': 0.10752241926365969, 'db_mean': -63.22448603312174, 'db_std': 19.859243392944336, 'db_min': -80.63072967529297, 'db_max': 0.0, 'db_range': 80.63072967529297, 'formant1': 405.4516745552232, 'formant2': 879.3807876096544, 'voiced_ratio': 0.45046258870026046, 'speech_rate': 14.07996333881421, 'laughter': False}}",
         "{'segments': {'segment_1': {'f0_mean': 465.24463392898286, 'f0_std': 60.064785380226176, 'f0_min': 229.0776735576574, 'f0_max': 499.62194879118596, 'f0_range': 270.54427523352854, 'f0_slope': 0.22975569559829906, 'f0_rising_pct': 18.064516129032256, 'rms_mean': 0.008985956199467182, 'rms_std': 0.021045710891485214, 'rms_min': 1.000000884232577e-05, 'rms_max': 0.10195433348417282, 'rms_range': 0.1019443334753305, 'db_mean': -58.71998977661133, 'db_std': 28.305564880371094, 'db_min': -80.16810607910156, 'db_max': 0.0, 'db_range': 80.16810607910156, 'formant1': 484.33051705298203, 'formant2': 952.1380364285455, 'voiced_ratio': 0.6946914578280787, 'speech_rate': 21.71374786405324, 'laughter': False}, 'segment_2': {'f0_mean': 460.89052427488576, 'f0_std': 23.527476891082543, 'f0_min': 403.4817790100553, 'f0_max': 499.62194879118596, 'f0_range': 96.14016978113068, 'f0_slope': -0.008486248913548069, 'f0_rising_pct': 22.28187919463087, 'rms_mean': 0.021944213658571243, 'rms_std': 0.028204983100295067, 'rms_min': 1.0000009751820471e-05, 'rms_max': 0.10066618025302887, 'rms_range': 0.10065618024327705, 'db_mean': -31.54539680480957, 'db_std': 24.75100326538086, 'db_min': -80.05766296386719, 'db_max': 0.0, 'db_range': 80.05766296386719, 'formant1': 522.4197756116296, 'formant2': 890.6291178731219, 'voiced_ratio': 0.5491781191053624, 'speech_rate': 17.16548415319647, 'laughter': False}, 'segment_3': {'f0_mean': 466.94181058717317, 'f0_std': 21.856013732268025, 'f0_min': 417.71053321822836, 'f0_max': 499.62194879118596, 'f0_range': 81.9114155729576, 'f0_slope': -0.0616554499509228, 'f0_rising_pct': 20.833333333333336, 'rms_mean': 0.016780268400907516, 'rms_std': 0.026642709970474243, 'rms_min': 1.723848981782794e-05, 'rms_max': 0.09898241609334946, 'rms_range': 0.09896517760353163, 'db_mean': -35.00495910644531, 'db_std': 20.80636215209961, 'db_min': -75.18118286132812, 'db_max': 0.0, 'db_range': 75.18118286132812, 'formant1': 485.99800913440026, 'formant2': 856.551440187133, 'voiced_ratio': 0.2910266774454325, 'speech_rate': 9.096517844546407, 'laughter': False}}, 'overall': {'f0_mean': 464.35898959701393, 'f0_std': 35.14942533452558, 'f0_min': 229.0776735576574, 'f0_max': 499.62194879118596, 'f0_range': 270.54427523352854, 'f0_slope': 0.053204665577942734, 'f0_rising_pct': 20.39324288566549, 'rms_mean': 0.015903479419648647, 'rms_std': 0.025297801320751507, 'rms_min': 1.000000884232577e-05, 'rms_max': 0.10195433348417282, 'rms_range': 0.1019443334753305, 'db_mean': -41.756781895955406, 'db_std': 24.62097676595052, 'db_min': -80.16810607910156, 'db_max': 0.0, 'db_range': 80.16810607910156, 'formant1': 497.58276726633727, 'formant2': 899.7728648296002, 'voiced_ratio': 0.5116320847929579, 'speech_rate': 15.991916620598703, 'laughter': False}}",
         "{'overall': {'f0_mean': 0.6529480783025756, 'f0_std': 2.139697431577617, 'f0_min': 0.2855205848276929, 'f0_max': 1.0, 'f0_range': 1.6049704141447085, 'f0_slope': -1.9272299104162975, 'f0_rising_pct': 0.5015670094637594, 'rms_mean': 0.3390517009676589, 'rms_std': 0.6801437728704661, 'rms_min': 0.9999991814554922, 'rms_max': 1.054711610478133, 'rms_range': 1.0547169773754912, 'db_mean': 1.514112993445161, 'db_std': 0.8065985188860824, 'db_min': 1.0057706688958692, 'db_max': None, 'db_range': 1.0057706688958692, 'formant1': 0.8148426778980474, 'formant2': 0.9773364167591254, 'voiced_ratio': 0.8804424157303371, 'speech_rate': 0.8804425181080694, 'laughter': 0}, 'segments': {'segment_1': {'f0_mean': 0.7082876373341024, 'f0_std': 0.8896822220896496, 'f0_min': 0.9942404238175473, 'f0_max': 1.0, 'f0_range': 1.0048767999670867, 'f0_slope': -0.09346168135835775, 'f0_rising_pct': 0.45424351359799947, 'rms_mean': 0.57348586535431, 'rms_std': 0.8153976119651327, 'rms_min': 0.9999991814554922, 'rms_max': 1.0324048845377172, 'rms_range': 1.0324080633050534, 'db_mean': 1.2241098004150304, 'db_std': 0.7837574092327713, 'db_min': 1.0034553399124497, 'db_max': None, 'db_range': 1.0034553399124497, 'formant1': 0.821308469555694, 'formant2': 0.9469185067545991, 'voiced_ratio': 1.0612878200155158, 'speech_rate': 1.061287820015516, 'laughter': 0}, 'segment_2': {'f0_mean': 0.7391276745947909, 'f0_std': 1.4731486236202425, 'f0_min': 0.5677522145354388, 'f0_max': 0.9942404238175473, 'f0_range': 2.784129310010589, 'f0_slope': 0.29303844826213776, 'f0_rising_pct': 0.1723483796938908, 'rms_mean': 0.14074978291703483, 'rms_std': 0.4856579869750143, 'rms_min': 0.9999990905061852, 'rms_max': 1.0258500623113322, 'rms_range': 1.025852630558702, 'db_mean': 2.179785527103328, 'db_std': 0.7751465054088673, 'db_min': 1.0027690955329858, 'db_max': None, 'db_range': 1.0027690955329858, 'formant1': 0.7634700285335237, 'formant2': 0.8898481870806284, 'voiced_ratio': 0.9234543670264966, 'speech_rate': 0.9234543670264966, 'laughter': 0}, 'segment_3': {'f0_mean': 0.5127468996631888, 'f0_std': 6.292518164020042, 'f0_min': 0.15658305482801602, 'f0_max': 0.9012504626108304, 'f0_range': 4.698711632087772, 'f0_slope': 4.600610619610101, 'f0_rising_pct': 0.8947103274559193, 'rms_mean': 0.47283767340471655, 'rms_std': 0.7791935734652079, 'rms_min': 0.5801007390555621, 'rms_max': 1.086379010620469, 'rms_range': 1.0864671979308007, 'db_mean': 1.4007027856422058, 'db_std': 0.8750871565965924, 'db_min': 1.0724855157442328, 'db_max': None, 'db_range': 1.0724855157442328, 'formant1': 0.8636217002218376, 'formant2': 1.1021177304225056, 'voiced_ratio': 0.36759259259259264, 'speech_rate': 0.3675925925925926, 'laughter': 0}}}",
         "1"
        ],
        [
         "1",
         "fec28b84-69e8-4d83-bea1-70d825050057_22237809_241614137_14147_4028_2025-04-07T17:22:18.mp3",
         "8000",
         "{'segments': {'segment_1': {'f0_mean': 369.30864905958583, 'f0_std': 91.06690619933326, 'f0_min': 65.40639132514966, 'f0_max': 499.62194879118596, 'f0_range': 434.21555746603633, 'f0_slope': -0.18268323007528414, 'f0_rising_pct': 24.6588693957115, 'rms_mean': 0.026790516451001167, 'rms_std': 0.039822135120630264, 'rms_min': 1.0028677024820354e-05, 'rms_max': 0.13189992308616638, 'rms_range': 0.13188989460468292, 'db_mean': -36.45856475830078, 'db_std': 23.29981803894043, 'db_min': -82.38002014160156, 'db_max': 0.0, 'db_range': 82.38002014160156, 'formant1': 3361.9437701184775, 'formant2': 2200.5237939422423, 'voiced_ratio': 0.28785046728971964, 'speech_rate': 8.996331157620437, 'laughter': False}, 'segment_2': {'f0_mean': 69.84250648016561, 'f0_std': 3.6775889939063906, 'f0_min': 65.40639132514966, 'f0_max': 84.33305895682803, 'f0_range': 18.92666763167837, 'f0_slope': -0.00195516580842336, 'f0_rising_pct': 23.0, 'rms_mean': 0.00045532247168011963, 'rms_std': 0.002972349291667342, 'rms_min': 1.2827274076698814e-05, 'rms_max': 0.09490252286195755, 'rms_range': 0.09488969296216965, 'db_mean': -51.88016128540039, 'db_std': 4.171222686767578, 'db_min': -77.38287353515625, 'db_max': 0.0, 'db_range': 77.38287353515625, 'formant1': 306.7996673187167, 'formant2': 989.3114362978424, 'voiced_ratio': 0.0801068090787717, 'speech_rate': 2.503617205274704, 'laughter': False}, 'segment_3': {'f0_mean': 256.169144723312, 'f0_std': 153.81154120246788, 'f0_min': 65.40639132514966, 'f0_max': 499.62194879118596, 'f0_range': 434.21555746603633, 'f0_slope': 0.689075500831072, 'f0_rising_pct': 22.098569157392685, 'rms_mean': 0.011433650739490986, 'rms_std': 0.02866399474442005, 'rms_min': 1.0000000656873453e-05, 'rms_max': 0.14037588238716125, 'rms_range': 0.14036588370800018, 'db_mean': -47.58480453491211, 'db_std': 18.205820083618164, 'db_min': -82.94585418701172, 'db_max': 0.0, 'db_range': 82.94585418701172, 'formant1': 3294.584564030857, 'formant2': 2220.9996274753444, 'voiced_ratio': 0.193324432576769, 'speech_rate': 6.042062855396286, 'laughter': False}}, 'overall': {'f0_mean': 231.77343342102117, 'f0_std': 82.85201213190251, 'f0_min': 65.40639132514966, 'f0_max': 499.62194879118596, 'f0_range': 434.21555746603633, 'f0_slope': 0.16814570164912154, 'f0_rising_pct': 23.252479517701392, 'rms_mean': 0.012893163220724091, 'rms_std': 0.02381949305223922, 'rms_min': 1.0000000656873453e-05, 'rms_max': 0.14037588238716125, 'rms_range': 0.14036588238650438, 'db_mean': -45.30784352620443, 'db_std': 15.22562026977539, 'db_min': -82.94585418701172, 'db_max': 0.0, 'db_range': 82.94585418701172, 'formant1': 2321.1093338226838, 'formant2': 1803.6116192384761, 'voiced_ratio': 0.18709390298175346, 'speech_rate': 5.84733707276381, 'laughter': False}}",
         "{'segments': {'segment_1': {'f0_mean': 434.65867226626386, 'f0_std': 78.82051305071272, 'f0_min': 273.99891691894106, 'f0_max': 499.62194879118596, 'f0_range': 225.6230318722449, 'f0_slope': 2.5423522194067525, 'f0_rising_pct': 27.27272727272727, 'rms_mean': 0.0038140960969030857, 'rms_std': 0.009903736412525177, 'rms_min': 1.000000884232577e-05, 'rms_max': 0.051068566739559174, 'rms_range': 0.0510585680603981, 'db_mean': -51.35765075683594, 'db_std': 22.89556884765625, 'db_min': -74.16307067871094, 'db_max': 0.0, 'db_range': 74.16307067871094, 'formant1': 470.04818933330154, 'formant2': 948.5002326011816, 'voiced_ratio': 0.44058744993324434, 'speech_rate': 13.769894629010873, 'laughter': False}, 'segment_2': {'f0_mean': 229.07767355765748, 'f0_std': 8.526512829121202e-14, 'f0_min': 229.0776735576574, 'f0_max': 229.0776735576574, 'f0_range': 0.0, 'f0_slope': 0.0, 'f0_rising_pct': 0.0, 'rms_mean': 1.0727062544901855e-05, 'rms_std': 6.122934337327024e-06, 'rms_min': 1.000000884232577e-05, 'rms_max': 9.927171049639583e-05, 'rms_range': 8.927169983508065e-05, 'db_mean': -19.70758628845215, 'db_std': 1.8449828624725342, 'db_min': -19.93650245666504, 'db_max': 0.0, 'db_range': 19.93650245666504, 'formant1': 168.74697547073188, 'formant2': 1006.1111244346932, 'voiced_ratio': 0.8966622162883845, 'speech_rate': 28.023821917708187, 'laughter': False}, 'segment_3': {'f0_mean': 460.2108506556955, 'f0_std': 25.425851732023393, 'f0_min': 403.4817790100553, 'f0_max': 499.62194879118596, 'f0_range': 96.14016978113068, 'f0_slope': -0.16400782472616182, 'f0_rising_pct': 20.0, 'rms_mean': 0.006363613996654749, 'rms_std': 0.012182689271867275, 'rms_min': 1.0000007932831068e-05, 'rms_max': 0.05087915062904358, 'rms_range': 0.05086915194988251, 'db_mean': -50.241180419921875, 'db_std': 28.1337890625, 'db_min': -74.13079071044922, 'db_max': 0.0, 'db_range': 74.13079071044922, 'formant1': 488.0371148254977, 'formant2': 951.1314492350309, 'voiced_ratio': 0.7025367156208278, 'speech_rate': 21.956722890259154, 'laughter': False}}, 'overall': {'f0_mean': 374.64906549320557, 'f0_std': 34.748788260912065, 'f0_min': 229.0776735576574, 'f0_max': 499.62194879118596, 'f0_range': 270.54427523352854, 'f0_slope': 0.7927814648935302, 'f0_rising_pct': 15.757575757575756, 'rms_mean': 0.0033961457187009123, 'rms_std': 0.007364182872909926, 'rms_min': 1.0000007932831068e-05, 'rms_max': 0.051068566739559174, 'rms_range': 0.05105856673162634, 'db_mean': -40.43547248840332, 'db_std': 17.624780257542927, 'db_min': -74.16307067871094, 'db_max': 0.0, 'db_range': 74.16307067871094, 'formant1': 375.6107598765104, 'formant2': 968.5809354236353, 'voiced_ratio': 0.6799287939474855, 'speech_rate': 21.250146478992736, 'laughter': False}}",
         "{'overall': {'f0_mean': 0.6186414294558663, 'f0_std': 2.384313706417798, 'f0_min': 0.2855205848276929, 'f0_max': 1.0, 'f0_range': 1.6049704141447085, 'f0_slope': 0.2120959042246319, 'f0_rising_pct': 1.4756381232387423, 'rms_mean': 3.7964104866666206, 'rms_std': 3.2345059137331074, 'rms_min': 0.9999992724048158, 'rms_max': 2.748772705978883, 'rms_range': 2.7491152096825298, 'db_mean': 1.120497442912247, 'db_std': 0.8638757503520782, 'db_min': 1.118425294798668, 'db_max': None, 'db_range': 1.118425294798668, 'formant1': 6.17956028359197, 'formant2': 1.862117612762652, 'voiced_ratio': 0.27516690666317584, 'speech_rate': 0.2751669066631759, 'laughter': 0}, 'segments': {}}",
         "0"
        ],
        [
         "2",
         "007554e2-9c6f-495b-8a9e-b0afbd948bf3_22197563_241515754_15243_3748_2025-04-02T14:16:07.mp3",
         "8000",
         "{'segments': {'segment_1': {'f0_mean': 298.1813292985016, 'f0_std': 109.55657473655586, 'f0_min': 65.40639132514966, 'f0_max': 488.2105677098517, 'f0_range': 422.80417638470203, 'f0_slope': -0.15806256271915622, 'f0_rising_pct': 24.396782841823057, 'rms_mean': 0.025285162031650543, 'rms_std': 0.045437075197696686, 'rms_min': 1.0129094334843103e-05, 'rms_max': 0.18034107983112335, 'rms_range': 0.18033094704151154, 'db_mean': -42.13420104980469, 'db_std': 22.855575561523438, 'db_min': -85.01048278808594, 'db_max': 0.0, 'db_range': 85.01048278808594, 'formant1': 3389.9651567865762, 'formant2': 2600.346226987022, 'voiced_ratio': 0.22392638036809817, 'speech_rate': 6.998431235837546, 'laughter': False}, 'segment_2': {'f0_mean': 337.0980396953422, 'f0_std': 96.25288915626659, 'f0_min': 65.40639132514966, 'f0_max': 491.03874275729817, 'f0_range': 425.63235143214854, 'f0_slope': 0.07361769719535631, 'f0_rising_pct': 28.459530026109658, 'rms_mean': 0.022938145324587822, 'rms_std': 0.043587133288383484, 'rms_min': 1.0000000656873453e-05, 'rms_max': 0.17566214501857758, 'rms_range': 0.1756521463394165, 'db_mean': -42.14482498168945, 'db_std': 22.037418365478516, 'db_min': -84.89356994628906, 'db_max': 0.0, 'db_range': 84.89356994628906, 'formant1': 3465.7552303642997, 'formant2': 2450.8564564352173, 'voiced_ratio': 0.13190184049079753, 'speech_rate': 4.122363604671431, 'laughter': False}, 'segment_3': {'f0_mean': 305.49859663859604, 'f0_std': 129.13264068588276, 'f0_min': 65.40639132514966, 'f0_max': 499.62194879118596, 'f0_range': 434.21555746603633, 'f0_slope': 0.29961746015670715, 'f0_rising_pct': 21.548821548821547, 'rms_mean': 0.01847444288432598, 'rms_std': 0.04008448123931885, 'rms_min': 1.0000000656873453e-05, 'rms_max': 0.17536067962646484, 'rms_range': 0.17535068094730377, 'db_mean': -44.81488800048828, 'db_std': 20.858592987060547, 'db_min': -84.87864685058594, 'db_max': 0.0, 'db_range': 84.87864685058594, 'formant1': 3433.4291884073077, 'formant2': 2407.037135377377, 'voiced_ratio': 0.14026770775237032, 'speech_rate': 4.383824298413805, 'laughter': False}}, 'overall': {'f0_mean': 313.5926552108133, 'f0_std': 111.64736819290174, 'f0_min': 65.40639132514966, 'f0_max': 499.62194879118596, 'f0_range': 434.21555746603633, 'f0_slope': 0.07172419821096908, 'f0_rising_pct': 24.801711472251423, 'rms_mean': 0.02223258341352145, 'rms_std': 0.04303622990846634, 'rms_min': 1.0000000656873453e-05, 'rms_max': 0.18034107983112335, 'rms_range': 0.18033107983046648, 'db_mean': -43.031304677327476, 'db_std': 21.917195638020832, 'db_min': -85.01048278808594, 'db_max': 0.0, 'db_range': 85.01048278808594, 'formant1': 3429.716525186061, 'formant2': 2486.0799395998724, 'voiced_ratio': 0.1653653095370887, 'speech_rate': 5.168206379640928, 'laughter': False}}",
         "{'segments': {'segment_1': {'f0_mean': 402.85096015198, 'f0_std': 59.47564118115369, 'f0_min': 229.0776735576574, 'f0_max': 499.62194879118596, 'f0_range': 270.54427523352854, 'f0_slope': 0.05898813929859953, 'f0_rising_pct': 22.544080604534006, 'rms_mean': 0.028234805911779404, 'rms_std': 0.04235805198550224, 'rms_min': 1.000000884232577e-05, 'rms_max': 0.14278222620487213, 'rms_range': 0.14277222752571106, 'db_mean': -37.409461975097656, 'db_std': 25.79416275024414, 'db_min': -83.0934829711914, 'db_max': 0.0, 'db_range': 83.0934829711914, 'formant1': 3291.2247030465714, 'formant2': 2468.0384845700687, 'voiced_ratio': 0.35499163413273843, 'speech_rate': 11.09464877113474, 'laughter': False}, 'segment_2': {'f0_mean': 441.00291936050496, 'f0_std': 36.86138399207894, 'f0_min': 363.6381399878532, 'f0_max': 499.62194879118596, 'f0_range': 135.98380880333275, 'f0_slope': 0.007669275554050052, 'f0_rising_pct': 26.326963906581742, 'rms_mean': 0.018314948305487633, 'rms_std': 0.036512479186058044, 'rms_min': 1.0000007023336366e-05, 'rms_max': 0.14679193496704102, 'rms_range': 0.14678193628787994, 'db_mean': -43.875484466552734, 'db_std': 22.105905532836914, 'db_min': -83.33404541015625, 'db_max': 0.0, 'db_range': 83.33404541015625, 'formant1': 3274.0577697970407, 'formant2': 2428.4382576246785, 'voiced_ratio': 0.2373117679866146, 'speech_rate': 7.416768345825345, 'laughter': False}, 'segment_3': {'f0_mean': 431.00256773290846, 'f0_std': 43.341661632145374, 'f0_min': 325.8414615030442, 'f0_max': 499.62194879118596, 'f0_range': 173.78048728814179, 'f0_slope': -0.000991955824539904, 'f0_rising_pct': 23.333333333333332, 'rms_mean': 0.02685898169875145, 'rms_std': 0.0419582836329937, 'rms_min': 1.0000000656873453e-05, 'rms_max': 0.146062433719635, 'rms_range': 0.14605243504047394, 'db_mean': -37.26066589355469, 'db_std': 23.345401763916016, 'db_min': -83.290771484375, 'db_max': 0.0, 'db_range': 83.290771484375, 'formant1': 3298.1088943011628, 'formant2': 2404.935999798445, 'voiced_ratio': 0.3616843279419967, 'speech_rate': 11.30381732612864, 'laughter': False}}, 'overall': {'f0_mean': 424.95214908179787, 'f0_std': 46.55956226845933, 'f0_min': 229.0776735576574, 'f0_max': 499.62194879118596, 'f0_range': 270.54427523352854, 'f0_slope': 0.02188848634270323, 'f0_rising_pct': 24.068125948149696, 'rms_mean': 0.02446957863867283, 'rms_std': 0.040276271601518, 'rms_min': 1.0000000656873453e-05, 'rms_max': 0.14679193496704102, 'rms_range': 0.14678193496638414, 'db_mean': -39.515204111735024, 'db_std': 23.74849001566569, 'db_min': -83.33404541015625, 'db_max': 0.0, 'db_range': 83.33404541015625, 'formant1': 3287.797122381591, 'formant2': 2433.804247331064, 'voiced_ratio': 0.3179959100204499, 'speech_rate': 9.938411481029574, 'laughter': False}}",
         "{'overall': {'f0_mean': 0.7379481569593161, 'f0_std': 2.3979471187712305, 'f0_min': 0.2855205848276929, 'f0_max': 1.0, 'f0_range': 1.6049704141447085, 'f0_slope': 3.2768002815726516, 'f0_rising_pct': 1.0304795448420911, 'rms_mean': 0.9085805579988234, 'rms_std': 1.0685256652913304, 'rms_min': 1.0, 'rms_max': 1.228548965388426, 'rms_range': 1.2285645360361663, 'db_mean': 1.0889809541575481, 'db_std': 0.922887965658581, 'db_min': 1.0201170766363081, 'db_max': None, 'db_range': 1.0201170766363081, 'formant1': 1.0431654988193637, 'formant2': 1.0214790044540907, 'voiced_ratio': 0.5200233849751535, 'speech_rate': 0.5200233849751535, 'laughter': 0}, 'segments': {}}",
         "0"
        ],
        [
         "3",
         "2d4b31ef-a683-4d9e-bc54-3d7bd5a758d8_22237750_241613780_18418_3474_2025-04-07T17:20:11.mp3",
         "8000",
         "{'segments': {'segment_1': {'f0_mean': 356.4138434674395, 'f0_std': 59.73360625501387, 'f0_min': 65.40639132514966, 'f0_max': 496.74433811469765, 'f0_range': 431.337946789548, 'f0_slope': 0.006292401074005246, 'f0_rising_pct': 28.48545636910732, 'rms_mean': 0.04231217876076698, 'rms_std': 0.05322179198265076, 'rms_min': 1.0000000656873453e-05, 'rms_max': 0.2010447233915329, 'rms_range': 0.20103472471237183, 'db_mean': -33.824989318847656, 'db_std': 26.547739028930664, 'db_min': -86.06585693359375, 'db_max': 0.0, 'db_range': 86.06585693359375, 'formant1': 3362.3724093215983, 'formant2': 2594.658714698107, 'voiced_ratio': 0.3468173706127305, 'speech_rate': 10.839125897934663, 'laughter': False}, 'segment_2': {'f0_mean': 371.1900509968981, 'f0_std': 50.84122449704463, 'f0_min': 218.7328932398604, 'f0_max': 499.62194879118596, 'f0_range': 280.88905555132555, 'f0_slope': 0.010658982143877907, 'f0_rising_pct': 24.642857142857146, 'rms_mean': 0.03389449417591095, 'rms_std': 0.05207402631640434, 'rms_min': 1.030496150633553e-05, 'rms_max': 0.19979386031627655, 'rms_range': 0.1997835487127304, 'db_mean': -36.484989166259766, 'db_std': 22.926002502441406, 'db_min': -85.75071716308594, 'db_max': 0.0, 'db_range': 85.75071716308594, 'formant1': 3344.1057815889158, 'formant2': 2518.5343553472576, 'voiced_ratio': 0.28316478286734087, 'speech_rate': 8.849783752001542, 'laughter': False}, 'segment_3': {'f0_mean': 407.2392468172763, 'f0_std': 42.45055823230806, 'f0_min': 314.74210513575684, 'f0_max': 499.62194879118596, 'f0_range': 184.8798436554291, 'f0_slope': -0.1980976744422748, 'f0_rising_pct': 28.000000000000004, 'rms_mean': 0.009563649073243141, 'rms_std': 0.02998582273721695, 'rms_min': 1.0272546205669641e-05, 'rms_max': 0.19259418547153473, 'rms_range': 0.19258391857147217, 'db_mean': -50.50947189331055, 'db_std': 16.150232315063477, 'db_min': -85.45929718017578, 'db_max': 0.0, 'db_range': 85.45929718017578, 'formant1': 392.8650977479191, 'formant2': 740.2635362693869, 'voiced_ratio': 0.09964306960142773, 'speech_rate': 3.114157097605585, 'laughter': False}}, 'overall': {'f0_mean': 378.28104709387134, 'f0_std': 51.00846299478885, 'f0_min': 65.40639132514966, 'f0_max': 499.62194879118596, 'f0_range': 434.21555746603633, 'f0_slope': -0.06038209707479722, 'f0_rising_pct': 27.04277117065482, 'rms_mean': 0.028590107336640358, 'rms_std': 0.04509388034542402, 'rms_min': 1.0000000656873453e-05, 'rms_max': 0.2010447233915329, 'rms_range': 0.20103472339087602, 'db_mean': -40.27315012613932, 'db_std': 21.874657948811848, 'db_min': -86.06585693359375, 'db_max': 0.0, 'db_range': 86.06585693359375, 'formant1': 2366.4477628861446, 'formant2': 1951.1522021049175, 'voiced_ratio': 0.24320840769383303, 'speech_rate': 7.601022249180597, 'laughter': False}}",
         "{'segments': {'segment_1': {'f0_mean': 395.9661186258435, 'f0_std': 54.83240843001907, 'f0_min': 300.528856485967, 'f0_max': 499.62194879118596, 'f0_range': 199.09309230521893, 'f0_slope': 0.195637302244404, 'f0_rising_pct': 33.66013071895425, 'rms_mean': 0.022656911984086037, 'rms_std': 0.05287213250994682, 'rms_min': 9.999999747378752e-06, 'rms_max': 0.2316656857728958, 'rms_range': 0.23165568709373474, 'db_mean': -47.20909118652344, 'db_std': 20.694988250732422, 'db_min': -87.2972412109375, 'db_max': 0.0, 'db_range': 87.2972412109375, 'formant1': 437.5421539585286, 'formant2': 839.2170553888295, 'voiced_ratio': 0.23319452706722188, 'speech_rate': 7.288057207530683, 'laughter': False}, 'segment_2': {'f0_mean': 416.5413516834576, 'f0_std': 46.94742898881565, 'f0_min': 318.3992322368831, 'f0_max': 499.62194879118596, 'f0_range': 181.22271655430285, 'f0_slope': -0.01195605749276001, 'f0_rising_pct': 33.33333333333333, 'rms_mean': 0.0332220084965229, 'rms_std': 0.06103086099028587, 'rms_min': 0.00011215581616852432, 'rms_max': 0.22586455941200256, 'rms_range': 0.22575239837169647, 'db_mean': -40.92045211791992, 'db_std': 22.79787826538086, 'db_min': -66.08052825927734, 'db_max': 0.0, 'db_range': 66.08052825927734, 'formant1': 1679.7039579238378, 'formant2': 514.8686764232286, 'voiced_ratio': 0.35276621058893515, 'speech_rate': 11.025045724657385, 'laughter': False}, 'segment_3': {'f0_mean': 430.7341617287662, 'f0_std': 46.0852549026459, 'f0_min': 305.78200836531414, 'f0_max': 499.62194879118596, 'f0_range': 193.83994042587182, 'f0_slope': -0.022912084222020148, 'f0_rising_pct': 26.382978723404253, 'rms_mean': 0.03719087317585945, 'rms_std': 0.06459222733974457, 'rms_min': 0.00010118948557646945, 'rms_max': 0.22774645686149597, 'rms_range': 0.22764526307582855, 'db_mean': -41.99740982055664, 'db_std': 24.496482849121094, 'db_min': -67.04632568359375, 'db_max': 0.0, 'db_range': 67.04632568359375, 'formant1': 3252.491702986748, 'formant2': 2638.9353246613978, 'voiced_ratio': 0.29357525282569896, 'speech_rate': 9.175143448766306, 'laughter': False}}, 'overall': {'f0_mean': 414.41387734602245, 'f0_std': 49.28836410716021, 'f0_min': 300.528856485967, 'f0_max': 499.62194879118596, 'f0_range': 199.09309230521893, 'f0_slope': 0.05358972017654128, 'f0_rising_pct': 31.125480925230608, 'rms_mean': 0.03102326455215613, 'rms_std': 0.05949840694665909, 'rms_min': 9.999999747378752e-06, 'rms_max': 0.2316656857728958, 'rms_range': 0.23165568577314843, 'db_mean': -43.375651041666664, 'db_std': 22.663116455078125, 'db_min': -87.2972412109375, 'db_max': 0.0, 'db_range': 87.2972412109375, 'formant1': 1789.9126049563718, 'formant2': 1331.0070188244854, 'voiced_ratio': 0.293178663493952, 'speech_rate': 9.162748793651458, 'laughter': False}}",
         "{'overall': {'f0_mean': 0.9128097966131058, 'f0_std': 1.0348986808304064, 'f0_min': 0.217637640824031, 'f0_max': 1.0, 'f0_range': 2.1809674682251847, 'f0_slope': -1.1267477582618406, 'f0_rising_pct': 0.8688306290147535, 'rms_mean': 0.9215699169432938, 'rms_std': 0.757900633975816, 'rms_min': 1.0000000909494724, 'rms_max': 0.8678226243165725, 'rms_range': 0.8678169185441088, 'db_mean': 0.9284736749530956, 'db_std': 0.9652096167872972, 'db_min': 0.9858943506087627, 'db_max': None, 'db_range': 0.9858943506087627, 'formant1': 1.32210240675065, 'formant2': 1.465921797939225, 'voiced_ratio': 0.8295569834291512, 'speech_rate': 0.8295569834291512, 'laughter': 0}, 'segments': {}}",
         "0"
        ],
        [
         "4",
         "b9a6592a-376e-4094-8ab5-e7dd25fac4c1_22214911_241554698_18387_4014_2025-04-04T09:48:47.mp3",
         "8000",
         "{'segments': {'segment_1': {'f0_mean': 355.54156760373706, 'f0_std': 82.94375561274519, 'f0_min': 229.0776735576574, 'f0_max': 499.62194879118596, 'f0_range': 270.54427523352854, 'f0_slope': 0.3512379712610482, 'f0_rising_pct': 8.0, 'rms_mean': 0.05455060303211212, 'rms_std': 0.07861046493053436, 'rms_min': 1.0000000656873453e-05, 'rms_max': 0.2386506348848343, 'rms_range': 0.23864063620567322, 'db_mean': -47.63222122192383, 'db_std': 36.5031623840332, 'db_min': -87.55525207519531, 'db_max': 0.0, 'db_range': 87.55525207519531, 'formant1': 442.55198968637865, 'formant2': 778.5714336961348, 'voiced_ratio': 0.7071277346506705, 'speech_rate': 22.102981806951853, 'laughter': False}, 'segment_2': {'f0_mean': 336.24356807012185, 'f0_std': 39.88009124669371, 'f0_min': 229.0776735576574, 'f0_max': 493.88330125612407, 'f0_range': 264.80562769846665, 'f0_slope': 0.017190987143311555, 'f0_rising_pct': 1.8218623481781375, 'rms_mean': 0.019472744315862656, 'rms_std': 0.054520126432180405, 'rms_min': 1.0000000656873453e-05, 'rms_max': 0.24088095128536224, 'rms_range': 0.24087095260620117, 'db_mean': -74.0414047241211, 'db_std': 28.334863662719727, 'db_min': -87.63604736328125, 'db_max': 0.0, 'db_range': 87.63604736328125, 'formant1': 435.79727497944623, 'formant2': 788.8968940005558, 'voiced_ratio': 0.6365561044460127, 'speech_rate': 19.897095399072423, 'laughter': False}, 'segment_3': {'f0_mean': 302.29032279477786, 'f0_std': 58.78591606871365, 'f0_min': 171.61434972294217, 'f0_max': 383.04224785029453, 'f0_range': 211.42789812735236, 'f0_slope': -0.16501080671108956, 'f0_rising_pct': 0.9584664536741214, 'rms_mean': 0.023136494681239128, 'rms_std': 0.05835585668683052, 'rms_min': 1.0000000656873453e-05, 'rms_max': 0.23230373859405518, 'rms_range': 0.2322937399148941, 'db_mean': -70.799072265625, 'db_std': 30.260536193847656, 'db_min': -87.32112884521484, 'db_max': 0.0, 'db_range': 87.32112884521484, 'formant1': 2956.0277192242374, 'formant2': 2361.2970045705742, 'voiced_ratio': 0.5956245589273113, 'speech_rate': 18.617681282502357, 'laughter': False}}, 'overall': {'f0_mean': 331.3584861562122, 'f0_std': 60.536587642717514, 'f0_min': 171.61434972294217, 'f0_max': 499.62194879118596, 'f0_range': 328.0075990682438, 'f0_slope': 0.06780605056442342, 'f0_rising_pct': 3.593442933950753, 'rms_mean': 0.03238661400973797, 'rms_std': 0.06382881601651509, 'rms_min': 1.0000000656873453e-05, 'rms_max': 0.24088095128536224, 'rms_range': 0.24087095128470537, 'db_mean': -64.15756607055664, 'db_std': 31.699520746866863, 'db_min': -87.63604736328125, 'db_max': 0.0, 'db_range': 87.63604736328125, 'formant1': 1278.1256612966874, 'formant2': 1309.5884440890884, 'voiced_ratio': 0.6464361326746648, 'speech_rate': 20.205919496175543, 'laughter': False}}",
         "{'segments': {'segment_1': {'f0_mean': 371.7687828500699, 'f0_std': 37.788758083499474, 'f0_min': 298.79793764201077, 'f0_max': 458.1553471153147, 'f0_range': 159.35740947330396, 'f0_slope': 0.38674377620652517, 'f0_rising_pct': 35.63218390804598, 'rms_mean': 0.027040138840675354, 'rms_std': 0.07056544721126556, 'rms_min': 1.0000293514167424e-05, 'rms_max': 0.2997701168060303, 'rms_range': 0.299760103225708, 'db_mean': -54.64839172363281, 'db_std': 22.509845733642578, 'db_min': -89.53551483154297, 'db_max': 0.0, 'db_range': 89.53551483154297, 'formant1': 3278.789972009155, 'formant2': 2494.238169453505, 'voiced_ratio': 0.19971771347918138, 'speech_rate': 6.242658534298776, 'laughter': False}, 'segment_2': {'f0_mean': 347.6523260487627, 'f0_std': 40.8045658113844, 'f0_min': 278.7883336231537, 'f0_max': 466.1637615180899, 'f0_range': 187.37542789493625, 'f0_slope': 0.004009919090044506, 'f0_rising_pct': 21.779141104294478, 'rms_mean': 0.08266006410121918, 'rms_std': 0.09866516292095184, 'rms_min': 1.0000018846767489e-05, 'rms_max': 0.30733928084373474, 'rms_range': 0.3073292672634125, 'db_mean': -33.42899703979492, 'db_std': 28.663179397583008, 'db_min': -89.7523422241211, 'db_max': 0.0, 'db_range': 89.7523422241211, 'formant1': 3368.841657274406, 'formant2': 2561.758306421242, 'voiced_ratio': 0.26605504587155965, 'speech_rate': 8.316191757705438, 'laughter': False}, 'segment_3': {'f0_mean': 358.81330212046976, 'f0_std': 48.552890095716364, 'f0_min': 266.19869962824436, 'f0_max': 493.88330125612407, 'f0_range': 227.68460162787972, 'f0_slope': -0.211641557153219, 'f0_rising_pct': 18.83408071748879, 'rms_mean': 0.06319548934698105, 'rms_std': 0.0848851203918457, 'rms_min': 0.0001014561130432412, 'rms_max': 0.31181952357292175, 'rms_range': 0.31171807646751404, 'db_mean': -33.757083892822266, 'db_std': 25.05828094482422, 'db_min': -69.75251007080078, 'db_max': 0.0, 'db_range': 69.75251007080078, 'formant1': 3317.6212776205075, 'formant2': 2536.0883390118, 'voiced_ratio': 0.22582921665490474, 'speech_rate': 7.058836505214164, 'laughter': False}}, 'overall': {'f0_mean': 359.41147033976745, 'f0_std': 42.38207133020008, 'f0_min': 266.19869962824436, 'f0_max': 493.88330125612407, 'f0_range': 227.68460162787972, 'f0_slope': 0.05970404604778356, 'f0_rising_pct': 25.415135243276413, 'rms_mean': 0.05763189742962519, 'rms_std': 0.08470524350802104, 'rms_min': 1.0000018846767489e-05, 'rms_max': 0.31181952357292175, 'rms_range': 0.311809523554075, 'db_mean': -40.611490885416664, 'db_std': 25.41043535868327, 'db_min': -89.7523422241211, 'db_max': 0.0, 'db_range': 89.7523422241211, 'formant1': 3321.750968968023, 'formant2': 2530.694938295516, 'voiced_ratio': 0.23053399200188193, 'speech_rate': 7.205895599072793, 'laughter': False}}",
         "{'overall': {'f0_mean': 0.9219474432548425, 'f0_std': 1.4283536821755365, 'f0_min': 0.6446851542197897, 'f0_max': 1.0116194403019223, 'f0_range': 1.4406226715512747, 'f0_slope': 1.1357027714697174, 'f0_rising_pct': 0.14138988046114767, 'rms_mean': 0.5619564070276455, 'rms_std': 0.7535403166684824, 'rms_min': 0.9999981810140246, 'rms_max': 0.7725011844200003, 'rms_range': 0.7724938883816125, 'db_mean': 1.579788495122577, 'db_std': 1.2475001037727, 'db_min': 0.9764207283242232, 'db_max': None, 'db_range': 0.9764207283242232, 'formant1': 0.384774678546648, 'formant2': 0.5174817494878019, 'voiced_ratio': 2.804081632653061, 'speech_rate': 2.8040816326530607, 'laughter': 0}, 'segments': {}}",
         "0"
        ]
       ],
       "shape": {
        "columns": 6,
        "rows": 5
       }
      },
      "text/html": [
       "<div>\n",
       "<style scoped>\n",
       "    .dataframe tbody tr th:only-of-type {\n",
       "        vertical-align: middle;\n",
       "    }\n",
       "\n",
       "    .dataframe tbody tr th {\n",
       "        vertical-align: top;\n",
       "    }\n",
       "\n",
       "    .dataframe thead th {\n",
       "        text-align: right;\n",
       "    }\n",
       "</style>\n",
       "<table border=\"1\" class=\"dataframe\">\n",
       "  <thead>\n",
       "    <tr style=\"text-align: right;\">\n",
       "      <th></th>\n",
       "      <th>file</th>\n",
       "      <th>sampling_rate</th>\n",
       "      <th>channel_1</th>\n",
       "      <th>channel_2</th>\n",
       "      <th>ratios</th>\n",
       "      <th>label</th>\n",
       "    </tr>\n",
       "  </thead>\n",
       "  <tbody>\n",
       "    <tr>\n",
       "      <th>0</th>\n",
       "      <td>8ab4ffda-6f7d-4fd8-9fc4-5d00e7798d43_22281325_...</td>\n",
       "      <td>8000</td>\n",
       "      <td>{'segments': {'segment_1': {'f0_mean': 329.527...</td>\n",
       "      <td>{'segments': {'segment_1': {'f0_mean': 465.244...</td>\n",
       "      <td>{'overall': {'f0_mean': 0.6529480783025756, 'f...</td>\n",
       "      <td>1</td>\n",
       "    </tr>\n",
       "    <tr>\n",
       "      <th>1</th>\n",
       "      <td>fec28b84-69e8-4d83-bea1-70d825050057_22237809_...</td>\n",
       "      <td>8000</td>\n",
       "      <td>{'segments': {'segment_1': {'f0_mean': 369.308...</td>\n",
       "      <td>{'segments': {'segment_1': {'f0_mean': 434.658...</td>\n",
       "      <td>{'overall': {'f0_mean': 0.6186414294558663, 'f...</td>\n",
       "      <td>0</td>\n",
       "    </tr>\n",
       "    <tr>\n",
       "      <th>2</th>\n",
       "      <td>007554e2-9c6f-495b-8a9e-b0afbd948bf3_22197563_...</td>\n",
       "      <td>8000</td>\n",
       "      <td>{'segments': {'segment_1': {'f0_mean': 298.181...</td>\n",
       "      <td>{'segments': {'segment_1': {'f0_mean': 402.850...</td>\n",
       "      <td>{'overall': {'f0_mean': 0.7379481569593161, 'f...</td>\n",
       "      <td>0</td>\n",
       "    </tr>\n",
       "    <tr>\n",
       "      <th>3</th>\n",
       "      <td>2d4b31ef-a683-4d9e-bc54-3d7bd5a758d8_22237750_...</td>\n",
       "      <td>8000</td>\n",
       "      <td>{'segments': {'segment_1': {'f0_mean': 356.413...</td>\n",
       "      <td>{'segments': {'segment_1': {'f0_mean': 395.966...</td>\n",
       "      <td>{'overall': {'f0_mean': 0.9128097966131058, 'f...</td>\n",
       "      <td>0</td>\n",
       "    </tr>\n",
       "    <tr>\n",
       "      <th>4</th>\n",
       "      <td>b9a6592a-376e-4094-8ab5-e7dd25fac4c1_22214911_...</td>\n",
       "      <td>8000</td>\n",
       "      <td>{'segments': {'segment_1': {'f0_mean': 355.541...</td>\n",
       "      <td>{'segments': {'segment_1': {'f0_mean': 371.768...</td>\n",
       "      <td>{'overall': {'f0_mean': 0.9219474432548425, 'f...</td>\n",
       "      <td>0</td>\n",
       "    </tr>\n",
       "  </tbody>\n",
       "</table>\n",
       "</div>"
      ],
      "text/plain": [
       "                                                file  sampling_rate  \\\n",
       "0  8ab4ffda-6f7d-4fd8-9fc4-5d00e7798d43_22281325_...           8000   \n",
       "1  fec28b84-69e8-4d83-bea1-70d825050057_22237809_...           8000   \n",
       "2  007554e2-9c6f-495b-8a9e-b0afbd948bf3_22197563_...           8000   \n",
       "3  2d4b31ef-a683-4d9e-bc54-3d7bd5a758d8_22237750_...           8000   \n",
       "4  b9a6592a-376e-4094-8ab5-e7dd25fac4c1_22214911_...           8000   \n",
       "\n",
       "                                           channel_1  \\\n",
       "0  {'segments': {'segment_1': {'f0_mean': 329.527...   \n",
       "1  {'segments': {'segment_1': {'f0_mean': 369.308...   \n",
       "2  {'segments': {'segment_1': {'f0_mean': 298.181...   \n",
       "3  {'segments': {'segment_1': {'f0_mean': 356.413...   \n",
       "4  {'segments': {'segment_1': {'f0_mean': 355.541...   \n",
       "\n",
       "                                           channel_2  \\\n",
       "0  {'segments': {'segment_1': {'f0_mean': 465.244...   \n",
       "1  {'segments': {'segment_1': {'f0_mean': 434.658...   \n",
       "2  {'segments': {'segment_1': {'f0_mean': 402.850...   \n",
       "3  {'segments': {'segment_1': {'f0_mean': 395.966...   \n",
       "4  {'segments': {'segment_1': {'f0_mean': 371.768...   \n",
       "\n",
       "                                              ratios  label  \n",
       "0  {'overall': {'f0_mean': 0.6529480783025756, 'f...      1  \n",
       "1  {'overall': {'f0_mean': 0.6186414294558663, 'f...      0  \n",
       "2  {'overall': {'f0_mean': 0.7379481569593161, 'f...      0  \n",
       "3  {'overall': {'f0_mean': 0.9128097966131058, 'f...      0  \n",
       "4  {'overall': {'f0_mean': 0.9219474432548425, 'f...      0  "
      ]
     },
     "execution_count": 4,
     "metadata": {},
     "output_type": "execute_result"
    }
   ],
   "source": [
    "df.head()"
   ]
  },
  {
   "cell_type": "code",
   "execution_count": 5,
   "metadata": {},
   "outputs": [
    {
     "data": {
      "text/plain": [
       "(895, 6)"
      ]
     },
     "execution_count": 5,
     "metadata": {},
     "output_type": "execute_result"
    }
   ],
   "source": [
    "df.shape"
   ]
  },
  {
   "cell_type": "code",
   "execution_count": 6,
   "metadata": {},
   "outputs": [
    {
     "data": {
      "text/plain": [
       "\"{'segments': {'segment_1': {'f0_mean': 465.24463392898286, 'f0_std': 60.064785380226176, 'f0_min': 229.0776735576574, 'f0_max': 499.62194879118596, 'f0_range': 270.54427523352854, 'f0_slope': 0.22975569559829906, 'f0_rising_pct': 18.064516129032256, 'rms_mean': 0.008985956199467182, 'rms_std': 0.021045710891485214, 'rms_min': 1.000000884232577e-05, 'rms_max': 0.10195433348417282, 'rms_range': 0.1019443334753305, 'db_mean': -58.71998977661133, 'db_std': 28.305564880371094, 'db_min': -80.16810607910156, 'db_max': 0.0, 'db_range': 80.16810607910156, 'formant1': 484.33051705298203, 'formant2': 952.1380364285455, 'voiced_ratio': 0.6946914578280787, 'speech_rate': 21.71374786405324, 'laughter': False}, 'segment_2': {'f0_mean': 460.89052427488576, 'f0_std': 23.527476891082543, 'f0_min': 403.4817790100553, 'f0_max': 499.62194879118596, 'f0_range': 96.14016978113068, 'f0_slope': -0.008486248913548069, 'f0_rising_pct': 22.28187919463087, 'rms_mean': 0.021944213658571243, 'rms_std': 0.028204983100295067, 'rms_min': 1.0000009751820471e-05, 'rms_max': 0.10066618025302887, 'rms_range': 0.10065618024327705, 'db_mean': -31.54539680480957, 'db_std': 24.75100326538086, 'db_min': -80.05766296386719, 'db_max': 0.0, 'db_range': 80.05766296386719, 'formant1': 522.4197756116296, 'formant2': 890.6291178731219, 'voiced_ratio': 0.5491781191053624, 'speech_rate': 17.16548415319647, 'laughter': False}, 'segment_3': {'f0_mean': 466.94181058717317, 'f0_std': 21.856013732268025, 'f0_min': 417.71053321822836, 'f0_max': 499.62194879118596, 'f0_range': 81.9114155729576, 'f0_slope': -0.0616554499509228, 'f0_rising_pct': 20.833333333333336, 'rms_mean': 0.016780268400907516, 'rms_std': 0.026642709970474243, 'rms_min': 1.723848981782794e-05, 'rms_max': 0.09898241609334946, 'rms_range': 0.09896517760353163, 'db_mean': -35.00495910644531, 'db_std': 20.80636215209961, 'db_min': -75.18118286132812, 'db_max': 0.0, 'db_range': 75.18118286132812, 'formant1': 485.99800913440026, 'formant2': 856.551440187133, 'voiced_ratio': 0.2910266774454325, 'speech_rate': 9.096517844546407, 'laughter': False}}, 'overall': {'f0_mean': 464.35898959701393, 'f0_std': 35.14942533452558, 'f0_min': 229.0776735576574, 'f0_max': 499.62194879118596, 'f0_range': 270.54427523352854, 'f0_slope': 0.053204665577942734, 'f0_rising_pct': 20.39324288566549, 'rms_mean': 0.015903479419648647, 'rms_std': 0.025297801320751507, 'rms_min': 1.000000884232577e-05, 'rms_max': 0.10195433348417282, 'rms_range': 0.1019443334753305, 'db_mean': -41.756781895955406, 'db_std': 24.62097676595052, 'db_min': -80.16810607910156, 'db_max': 0.0, 'db_range': 80.16810607910156, 'formant1': 497.58276726633727, 'formant2': 899.7728648296002, 'voiced_ratio': 0.5116320847929579, 'speech_rate': 15.991916620598703, 'laughter': False}}\""
      ]
     },
     "execution_count": 6,
     "metadata": {},
     "output_type": "execute_result"
    }
   ],
   "source": [
    "df.loc[0, 'channel_2']"
   ]
  },
  {
   "cell_type": "code",
   "execution_count": 7,
   "metadata": {},
   "outputs": [
    {
     "data": {
      "text/plain": [
       "\"{'overall': {'f0_mean': 1.3454828448916696, 'f0_std': 0.19949521814518636, 'f0_min': 1.9207458901020082, 'f0_max': 1.0, 'f0_range': 0.39994639595560605, 'f0_slope': nan, 'f0_rising_pct': 0.943153953521236, 'rms_mean': 2.5477451818746437, 'rms_std': 2.592209233903075, 'rms_min': 1.0, 'rms_max': 2.816940203525856, 'rms_range': 2.8171172675976126, 'db_mean': 0.9927130223837168, 'db_std': 0.8143357957396867, 'db_min': 1.1121287751570146, 'db_max': None, 'db_range': 1.1121287751570146, 'formant1': 0.9605229844303151, 'formant2': 0.7836192473638436, 'voiced_ratio': 0.9180653311676592, 'speech_rate': 0.9180653311676593, 'laughter': 0}, 'segments': {}}\""
      ]
     },
     "execution_count": 7,
     "metadata": {},
     "output_type": "execute_result"
    }
   ],
   "source": [
    "# some data has nan \n",
    "df.loc[821, 'ratios']"
   ]
  },
  {
   "cell_type": "markdown",
   "metadata": {},
   "source": [
    "# 2. data cleaning 1: change the string of dict to dict"
   ]
  },
  {
   "cell_type": "code",
   "execution_count": 8,
   "metadata": {},
   "outputs": [],
   "source": [
    "def safe_literal_eval(val):\n",
    "    if isinstance(val, str):\n",
    "        # Replace nan with None (case-insensitive)\n",
    "        val = re.sub(r'\\bnan\\b', 'None', val, flags=re.IGNORECASE)\n",
    "        try:\n",
    "            return ast.literal_eval(val)\n",
    "        except Exception as e:\n",
    "            print(f\"Could not parse: {val[:100]}... Exception: {e}\")\n",
    "            return val\n",
    "    return val\n",
    "\n",
    "for col in ['channel_1', 'channel_2', 'ratios']:\n",
    "    df[col] = df[col].apply(safe_literal_eval)"
   ]
  },
  {
   "cell_type": "code",
   "execution_count": 9,
   "metadata": {},
   "outputs": [
    {
     "data": {
      "text/plain": [
       "22"
      ]
     },
     "execution_count": 9,
     "metadata": {},
     "output_type": "execute_result"
    }
   ],
   "source": [
    "len(df.loc[279, 'channel_2']['segments']['segment_2'].keys())"
   ]
  },
  {
   "cell_type": "markdown",
   "metadata": {},
   "source": [
    "# 3.  train test split: imbalanced classes"
   ]
  },
  {
   "cell_type": "code",
   "execution_count": 10,
   "metadata": {},
   "outputs": [
    {
     "name": "stdout",
     "output_type": "stream",
     "text": [
      "Train set class distribution:\n",
      "label\n",
      "0    0.903631\n",
      "1    0.096369\n",
      "Name: proportion, dtype: float64\n",
      "\n",
      "Test set class distribution:\n",
      "label\n",
      "0    0.905028\n",
      "1    0.094972\n",
      "Name: proportion, dtype: float64\n"
     ]
    }
   ],
   "source": [
    "from sklearn.model_selection import train_test_split\n",
    "\n",
    "# Use stratify to maintain class balance in both splits\n",
    "train_df, test_df = train_test_split(\n",
    "    df, \n",
    "    test_size=0.2, \n",
    "    random_state=42, \n",
    "    stratify=df['label']  # This ensures 10%/90% in both train and test\n",
    ")\n",
    "\n",
    "print(\"Train set class distribution:\")\n",
    "print(train_df['label'].value_counts(normalize=True))\n",
    "print(\"\\nTest set class distribution:\")\n",
    "print(test_df['label'].value_counts(normalize=True))"
   ]
  },
  {
   "cell_type": "markdown",
   "metadata": {},
   "source": [
    "# 4.  data structure\n",
    "1. for every sample, it has three main features: channel_1 (customer), channel_2 (sales agent), ratios; and label.\n",
    "2. for channel_1(2), each sample has two kv pair: 'segments' (has 3 sub segments) and 'overall'. \n",
    "3. for ratios, each sample has two kv pair: 'segmments' (empty) and 'overall'."
   ]
  },
  {
   "cell_type": "markdown",
   "metadata": {},
   "source": [
    "# 5. Train with overall features"
   ]
  },
  {
   "cell_type": "markdown",
   "metadata": {},
   "source": [
    "## 5.1 Extract overall features"
   ]
  },
  {
   "cell_type": "code",
   "execution_count": 11,
   "metadata": {},
   "outputs": [],
   "source": [
    "def extract_overall_features(row):\n",
    "    features = {}\n",
    "    for col in ['channel_1', 'channel_2', 'ratios']:\n",
    "        if isinstance(row[col], dict) and 'overall' in row[col]:\n",
    "            overall = row[col]['overall']\n",
    "            for k, v in overall.items():\n",
    "                features[f\"{col}_overall_{k}\"] = v\n",
    "        else:\n",
    "            # Handle cases where conversion failed\n",
    "            for i in range(22):  # assuming 22 features per channel\n",
    "                features[f\"{col}_overall_feature_{i}\"] = None\n",
    "    return pd.Series(features)"
   ]
  },
  {
   "cell_type": "code",
   "execution_count": 12,
   "metadata": {},
   "outputs": [],
   "source": [
    "# Extract features for train and test sets\n",
    "train_features = train_df.apply(extract_overall_features, axis=1)\n",
    "test_features = test_df.apply(extract_overall_features, axis=1)\n"
   ]
  },
  {
   "cell_type": "markdown",
   "metadata": {},
   "source": [
    "# 6. Data issues\n",
    "One column 'channel_2_overall_db_max' contains only 0.  \n",
    "some columns are true/false, \n",
    "some columns has missing values. \n",
    "Different columns have very much different range. "
   ]
  },
  {
   "cell_type": "markdown",
   "metadata": {},
   "source": [
    "## 6.1 data quality analysis. This can be done with data wrangler as well."
   ]
  },
  {
   "cell_type": "code",
   "execution_count": 13,
   "metadata": {},
   "outputs": [
    {
     "name": "stdout",
     "output_type": "stream",
     "text": [
      "=== Data Quality Analysis ===\n",
      "Shape: (716, 66)\n",
      "Missing values per column:\n",
      "ratios_overall_db_max           716\n",
      "ratios_overall_f0_min           119\n",
      "ratios_overall_f0_slope          15\n",
      "ratios_overall_f0_std             7\n",
      "ratios_overall_f0_rising_pct      7\n",
      "channel_1_overall_f0_slope        5\n",
      "ratios_overall_f0_mean            5\n",
      "ratios_overall_f0_range           5\n",
      "ratios_overall_f0_max             5\n",
      "channel_2_overall_f0_slope        4\n",
      "dtype: int64\n",
      "\n",
      "Columns with only one unique value:\n",
      "['channel_1_overall_db_max', 'channel_2_overall_db_max', 'ratios_overall_db_max']\n",
      "\n",
      "Data types:\n",
      "float64    62\n",
      "bool        2\n",
      "object      1\n",
      "int64       1\n",
      "Name: count, dtype: int64\n",
      "\n",
      "Boolean columns:\n",
      "['channel_1_overall_db_max', 'channel_1_overall_laughter', 'channel_2_overall_db_max', 'channel_2_overall_laughter', 'ratios_overall_db_max']\n"
     ]
    }
   ],
   "source": [
    "print(\"=== Data Quality Analysis ===\")\n",
    "print(f\"Shape: {train_features.shape}\")\n",
    "print(f\"Missing values per column:\")\n",
    "print(train_features.isnull().sum().sort_values(ascending=False).head(10))\n",
    "\n",
    "print(f\"\\nColumns with only one unique value:\")\n",
    "constant_cols = [col for col in train_features.columns if train_features[col].nunique() <= 1]\n",
    "print(constant_cols)\n",
    "\n",
    "print(f\"\\nData types:\")\n",
    "print(train_features.dtypes.value_counts())\n",
    "\n",
    "print(f\"\\nBoolean columns:\")\n",
    "bool_cols = [col for col in train_features.columns if train_features[col].dtype == 'bool' or set(train_features[col].dropna().unique()).issubset({0, 1, True, False})]\n",
    "print(bool_cols[:10])  # Show first 10"
   ]
  },
  {
   "cell_type": "markdown",
   "metadata": {},
   "source": [
    "# 7 data cleaning 2: fix the above issues"
   ]
  },
  {
   "cell_type": "code",
   "execution_count": 14,
   "metadata": {},
   "outputs": [],
   "source": [
    "def preprocess_features(train_features, test_features):\n",
    "    print(\"=== Preprocessing Features ===\")\n",
    "    \n",
    "    # 1. Remove constant columns AND columns with too many missing values\n",
    "    constant_cols = [col for col in train_features.columns if train_features[col].nunique() <= 1]\n",
    "    \n",
    "    # Remove columns with >95% missing values (ratios_overall_db_max with 100% missing)\n",
    "    high_missing_cols = [col for col in train_features.columns if train_features[col].isnull().sum() / len(train_features) > 0.95]\n",
    "    \n",
    "    cols_to_remove = list(set(constant_cols + high_missing_cols))\n",
    "    print(f\"Removing {len(constant_cols)} constant columns: {constant_cols}\")\n",
    "    print(f\"Removing {len(high_missing_cols)} high-missing columns: {high_missing_cols}\")\n",
    "    print(f\"Total columns to remove: {cols_to_remove}\")\n",
    "    \n",
    "    train_clean = train_features.drop(columns=cols_to_remove)\n",
    "    test_clean = test_features.drop(columns=cols_to_remove)\n",
    "    \n",
    "    # 2. Handle remaining missing values\n",
    "    print(f\"Shape before imputation: {train_clean.shape}\")\n",
    "    print(f\"Missing values before imputation: {train_clean.isnull().sum().sum()}\")\n",
    "    \n",
    "    imputer = SimpleImputer(strategy='median')\n",
    "    train_imputed = pd.DataFrame(\n",
    "        imputer.fit_transform(train_clean), \n",
    "        columns=train_clean.columns,\n",
    "        index=train_clean.index\n",
    "    )\n",
    "    test_imputed = pd.DataFrame(\n",
    "        imputer.transform(test_clean), \n",
    "        columns=test_clean.columns,\n",
    "        index=test_clean.index\n",
    "    )\n",
    "    \n",
    "    print(f\"Missing values after imputation: {train_imputed.isnull().sum().sum()}\")\n",
    "    \n",
    "    # 3. Scale features (handle different ranges)\n",
    "    scaler = StandardScaler()\n",
    "    train_scaled = pd.DataFrame(\n",
    "        scaler.fit_transform(train_imputed),\n",
    "        columns=train_imputed.columns,\n",
    "        index=train_imputed.index\n",
    "    )\n",
    "    test_scaled = pd.DataFrame(\n",
    "        scaler.transform(test_imputed),\n",
    "        columns=test_imputed.columns,\n",
    "        index=test_imputed.index\n",
    "    )\n",
    "    \n",
    "    print(f\"Final preprocessed shape: {train_scaled.shape}\")\n",
    "    return train_scaled, test_scaled, imputer, scaler"
   ]
  },
  {
   "cell_type": "code",
   "execution_count": 15,
   "metadata": {},
   "outputs": [
    {
     "name": "stdout",
     "output_type": "stream",
     "text": [
      "=== Preprocessing Features ===\n",
      "Removing 3 constant columns: ['channel_1_overall_db_max', 'channel_2_overall_db_max', 'ratios_overall_db_max']\n",
      "Removing 1 high-missing columns: ['ratios_overall_db_max']\n",
      "Total columns to remove: ['ratios_overall_db_max', 'channel_2_overall_db_max', 'channel_1_overall_db_max']\n",
      "Shape before imputation: (716, 63)\n",
      "Missing values before imputation: 172\n",
      "Missing values after imputation: 0\n",
      "Final preprocessed shape: (716, 63)\n",
      "\n",
      "Final dataset info:\n",
      "Training features: (716, 63)\n",
      "Test features: (179, 63)\n"
     ]
    }
   ],
   "source": [
    "# Apply preprocessing\n",
    "X_train, X_test, imputer, scaler = preprocess_features(train_features, test_features)\n",
    "y_train = train_df['label'].reset_index(drop=True)\n",
    "y_test = test_df['label'].reset_index(drop=True)\n",
    "\n",
    "print(f\"\\nFinal dataset info:\")\n",
    "print(f\"Training features: {X_train.shape}\")\n",
    "print(f\"Test features: {X_test.shape}\")"
   ]
  },
  {
   "cell_type": "markdown",
   "metadata": {},
   "source": [
    "### 7.1 check the imputed value"
   ]
  },
  {
   "cell_type": "code",
   "execution_count": 16,
   "metadata": {},
   "outputs": [
    {
     "name": "stdout",
     "output_type": "stream",
     "text": [
      "Imputer statistics (median values for each column):\n",
      "[ 3.62563524e+02  5.56775161e+01  6.61663770e+01  4.99621949e+02\n",
      "  4.23210458e+02 -1.20139452e-02  2.14061146e+01  1.69436840e-02\n",
      "  2.77205355e-02  1.00000007e-05  1.27181739e-01  1.27171700e-01\n",
      " -4.05766341e+01  2.19555454e+01 -8.17652130e+01  8.17652130e+01\n",
      "  2.32048220e+03  1.86684430e+03  4.11244109e-01  1.28524410e+01\n",
      "  0.00000000e+00  3.32877501e+02  4.60613483e+01  9.22322293e+01\n",
      "  4.99621949e+02  3.49602800e+02 -7.51839113e-03  2.19788448e+01\n",
      "  1.11150185e-02  2.09324652e-02  1.00000088e-05  9.25171934e-02\n",
      "  9.25069449e-02 -3.86353728e+01  1.95615721e+01 -7.86556778e+01\n",
      "  7.86556778e+01  3.18520119e+03  2.37166372e+03  2.88508329e-01\n",
      "  9.01751600e+00  0.00000000e+00  1.07018191e+00  1.24740544e+00\n",
      "  9.88514020e-01  1.00000000e+00  1.00090902e+00  2.88239466e-02\n",
      "  9.73273762e-01  1.53865467e+00  1.39693116e+00  9.99999363e-01\n",
      "  1.42883628e+00  1.42887069e+00  1.05395257e+00  1.13324227e+00\n",
      "  1.04298645e+00  1.04298645e+00  9.37047531e-01  9.23055342e-01\n",
      "  1.28332801e+00  1.28332801e+00  0.00000000e+00]\n",
      "Feature names:\n",
      "['channel_1_overall_f0_mean' 'channel_1_overall_f0_std'\n",
      " 'channel_1_overall_f0_min' 'channel_1_overall_f0_max'\n",
      " 'channel_1_overall_f0_range' 'channel_1_overall_f0_slope'\n",
      " 'channel_1_overall_f0_rising_pct' 'channel_1_overall_rms_mean'\n",
      " 'channel_1_overall_rms_std' 'channel_1_overall_rms_min'\n",
      " 'channel_1_overall_rms_max' 'channel_1_overall_rms_range'\n",
      " 'channel_1_overall_db_mean' 'channel_1_overall_db_std'\n",
      " 'channel_1_overall_db_min' 'channel_1_overall_db_range'\n",
      " 'channel_1_overall_formant1' 'channel_1_overall_formant2'\n",
      " 'channel_1_overall_voiced_ratio' 'channel_1_overall_speech_rate'\n",
      " 'channel_1_overall_laughter' 'channel_2_overall_f0_mean'\n",
      " 'channel_2_overall_f0_std' 'channel_2_overall_f0_min'\n",
      " 'channel_2_overall_f0_max' 'channel_2_overall_f0_range'\n",
      " 'channel_2_overall_f0_slope' 'channel_2_overall_f0_rising_pct'\n",
      " 'channel_2_overall_rms_mean' 'channel_2_overall_rms_std'\n",
      " 'channel_2_overall_rms_min' 'channel_2_overall_rms_max'\n",
      " 'channel_2_overall_rms_range' 'channel_2_overall_db_mean'\n",
      " 'channel_2_overall_db_std' 'channel_2_overall_db_min'\n",
      " 'channel_2_overall_db_range' 'channel_2_overall_formant1'\n",
      " 'channel_2_overall_formant2' 'channel_2_overall_voiced_ratio'\n",
      " 'channel_2_overall_speech_rate' 'channel_2_overall_laughter'\n",
      " 'ratios_overall_f0_mean' 'ratios_overall_f0_std' 'ratios_overall_f0_min'\n",
      " 'ratios_overall_f0_max' 'ratios_overall_f0_range'\n",
      " 'ratios_overall_f0_slope' 'ratios_overall_f0_rising_pct'\n",
      " 'ratios_overall_rms_mean' 'ratios_overall_rms_std'\n",
      " 'ratios_overall_rms_min' 'ratios_overall_rms_max'\n",
      " 'ratios_overall_rms_range' 'ratios_overall_db_mean'\n",
      " 'ratios_overall_db_std' 'ratios_overall_db_min' 'ratios_overall_db_range'\n",
      " 'ratios_overall_formant1' 'ratios_overall_formant2'\n",
      " 'ratios_overall_voiced_ratio' 'ratios_overall_speech_rate'\n",
      " 'ratios_overall_laughter']\n",
      "Imputation strategy: median\n"
     ]
    }
   ],
   "source": [
    "print(\"Imputer statistics (median values for each column):\")\n",
    "print(imputer.statistics_)\n",
    "\n",
    "# 2. See which features it was trained on\n",
    "print(\"Feature names:\")\n",
    "print(imputer.feature_names_in_)\n",
    "\n",
    "# 3. Use it to transform new data with the same missing value strategy\n",
    "# new_data_imputed = imputer.transform(new_data)\n",
    "\n",
    "# 4. See the imputation strategy\n",
    "print(f\"Imputation strategy: {imputer.strategy}\")"
   ]
  },
  {
   "cell_type": "markdown",
   "metadata": {},
   "source": [
    "# 8. first model: basic RandomForestClassifier"
   ]
  },
  {
   "cell_type": "code",
   "execution_count": 17,
   "metadata": {},
   "outputs": [],
   "source": [
    "from sklearn.ensemble import RandomForestClassifier\n",
    "\n",
    "clf = RandomForestClassifier(\n",
    "    class_weight='balanced',  # Automatically adjusts for imbalance\n",
    "    random_state=42\n",
    ")"
   ]
  },
  {
   "cell_type": "code",
   "execution_count": 18,
   "metadata": {},
   "outputs": [
    {
     "name": "stdout",
     "output_type": "stream",
     "text": [
      "=== Training Model ===\n",
      "Model training completed!\n"
     ]
    }
   ],
   "source": [
    "# Train the model\n",
    "print(\"=== Training Model ===\")\n",
    "clf.fit(X_train, y_train)\n",
    "\n",
    "# Make predictions\n",
    "y_pred = clf.predict(X_test) # using default threshold of 0.5 \n",
    "y_pred_proba = clf.predict_proba(X_test)[:, 1]\n",
    "\n",
    "print(\"Model training completed!\")"
   ]
  },
  {
   "cell_type": "markdown",
   "metadata": {},
   "source": [
    "## 8.1 Eval"
   ]
  },
  {
   "cell_type": "code",
   "execution_count": 19,
   "metadata": {},
   "outputs": [
    {
     "name": "stdout",
     "output_type": "stream",
     "text": [
      "=== Model Performance ===\n",
      "Accuracy: 0.950\n",
      "F1 Score: 0.727\n",
      "Precision: 0.750\n",
      "ROC AUC: 0.984\n",
      "\n",
      "Detailed Classification Report:\n",
      "              precision    recall  f1-score   support\n",
      "\n",
      "           0       0.97      0.98      0.97       162\n",
      "           1       0.75      0.71      0.73        17\n",
      "\n",
      "    accuracy                           0.95       179\n",
      "   macro avg       0.86      0.84      0.85       179\n",
      "weighted avg       0.95      0.95      0.95       179\n",
      "\n",
      "\n",
      "Prediction distribution:\n",
      "Predicted 0 (unsuccessful): 163\n",
      "Predicted 1 (successful): 16\n",
      "Actual successful calls in test: 17\n"
     ]
    }
   ],
   "source": [
    "from sklearn.metrics import classification_report, roc_auc_score\n",
    "\n",
    "from sklearn.metrics import classification_report, roc_auc_score, precision_score\n",
    "\n",
    "print(\"=== Model Performance ===\")\n",
    "print(f\"Accuracy: {accuracy_score(y_test, y_pred):.3f}\")\n",
    "print(f\"F1 Score: {f1_score(y_test, y_pred):.3f}\")\n",
    "print(f\"Precision: {precision_score(y_test, y_pred):.3f}\")\n",
    "print(f\"ROC AUC: {roc_auc_score(y_test, y_pred_proba):.3f}\")\n",
    "\n",
    "print(\"\\nDetailed Classification Report:\")\n",
    "print(classification_report(y_test, y_pred))\n",
    "\n",
    "# Check prediction distribution\n",
    "print(f\"\\nPrediction distribution:\")\n",
    "print(f\"Predicted 0 (unsuccessful): {sum(y_pred == 0)}\")\n",
    "print(f\"Predicted 1 (successful): {sum(y_pred == 1)}\")\n",
    "print(f\"Actual successful calls in test: {sum(y_test == 1)}\")"
   ]
  },
  {
   "cell_type": "markdown",
   "metadata": {},
   "source": [
    "## 8.2 feature importance"
   ]
  },
  {
   "cell_type": "code",
   "execution_count": 20,
   "metadata": {},
   "outputs": [
    {
     "name": "stdout",
     "output_type": "stream",
     "text": [
      "=== Top 15 Most Important Features for Sales Success ===\n",
      " 1. channel_2_overall_formant1               0.2420\n",
      " 2. channel_1_overall_formant1               0.1815\n",
      " 3. channel_2_overall_formant2               0.1366\n",
      " 4. channel_1_overall_formant2               0.1283\n",
      " 5. ratios_overall_formant1                  0.0454\n",
      " 6. ratios_overall_formant2                  0.0351\n",
      " 7. ratios_overall_rms_mean                  0.0138\n",
      " 8. channel_2_overall_db_std                 0.0129\n",
      " 9. channel_1_overall_db_mean                0.0114\n",
      "10. channel_2_overall_f0_std                 0.0107\n",
      "11. ratios_overall_db_mean                   0.0102\n",
      "12. channel_2_overall_f0_range               0.0090\n",
      "13. channel_2_overall_f0_slope               0.0077\n",
      "14. channel_2_overall_f0_mean                0.0063\n",
      "15. channel_1_overall_f0_std                 0.0060\n"
     ]
    },
    {
     "data": {
      "image/png": "[encoded data removed]",
      "text/plain": [
       "<Figure size 1200x800 with 1 Axes>"
      ]
     },
     "metadata": {},
     "output_type": "display_data"
    }
   ],
   "source": [
    "# Analyze which vocal features predict sales success\n",
    "feature_importance = pd.DataFrame({\n",
    "    'feature': X_train.columns,\n",
    "    'importance': clf.feature_importances_\n",
    "}).sort_values('importance', ascending=False)\n",
    "\n",
    "print(\"=== Top 15 Most Important Features for Sales Success ===\")\n",
    "top_features = feature_importance.head(15)\n",
    "for i, (_, row) in enumerate(top_features.iterrows(), 1):\n",
    "    print(f\"{i:2d}. {row['feature']:<40} {row['importance']:.4f}\")\n",
    "\n",
    "# Plot feature importance\n",
    "plt.figure(figsize=(12, 8))\n",
    "plt.barh(range(len(top_features)), top_features['importance'])\n",
    "plt.yticks(range(len(top_features)), top_features['feature'])\n",
    "plt.xlabel('Feature Importance')\n",
    "plt.title('Top 15 Vocal Features for Sales Success Prediction')\n",
    "plt.gca().invert_yaxis()\n",
    "plt.tight_layout()\n",
    "plt.show()"
   ]
  },
  {
   "cell_type": "markdown",
   "metadata": {},
   "source": [
    "## 8.3 Improvement on F1 (stable solution with both precision and recall in consideration)"
   ]
  },
  {
   "cell_type": "code",
   "execution_count": 21,
   "metadata": {},
   "outputs": [
    {
     "name": "stdout",
     "output_type": "stream",
     "text": [
      "Threshold 0.10: F1 = 0.773\n",
      "Threshold 0.15: F1 = 0.850\n",
      "Threshold 0.20: F1 = 0.872\n",
      "Threshold 0.25: F1 = 0.872\n",
      "Threshold 0.30: F1 = 0.842\n",
      "Threshold 0.35: F1 = 0.842\n",
      "Threshold 0.40: F1 = 0.811\n",
      "Threshold 0.45: F1 = 0.800\n",
      "Threshold 0.50: F1 = 0.727\n",
      "Threshold 0.55: F1 = 0.667\n",
      "Threshold 0.60: F1 = 0.621\n",
      "Threshold 0.65: F1 = 0.621\n",
      "Threshold 0.70: F1 = 0.593\n",
      "Threshold 0.75: F1 = 0.480\n",
      "Threshold 0.80: F1 = 0.435\n",
      "Threshold 0.85: F1 = 0.286\n",
      "\n",
      "Optimal threshold: 0.20\n",
      "Best F1 score: 0.872\n",
      "Optimized F1: 0.872\n"
     ]
    }
   ],
   "source": [
    "# Optimize decision threshold for better F1\n",
    "\n",
    "thresholds = np.arange(0.1, 0.9, 0.05)\n",
    "f1_scores = []\n",
    "\n",
    "for threshold in thresholds:\n",
    "    y_pred_threshold = (y_pred_proba >= threshold).astype(int)\n",
    "    #print(y_pred_threshold)\n",
    "    f1 = f1_score(y_test, y_pred_threshold)\n",
    "    f1_scores.append(f1)\n",
    "    print(f\"Threshold {threshold:.2f}: F1 = {f1:.3f}\")\n",
    "\n",
    "# Find optimal threshold\n",
    "best_threshold = thresholds[np.argmax(f1_scores)]\n",
    "best_f1 = max(f1_scores)\n",
    "print(f\"\\nOptimal threshold: {best_threshold:.2f}\")\n",
    "print(f\"Best F1 score: {best_f1:.3f}\")\n",
    "\n",
    "# Apply optimal threshold\n",
    "y_pred_optimized = (y_pred_proba >= best_threshold).astype(int)\n",
    "print(f\"Optimized F1: {f1_score(y_test, y_pred_optimized):.3f}\")"
   ]
  },
  {
   "cell_type": "code",
   "execution_count": 22,
   "metadata": {},
   "outputs": [
    {
     "name": "stdout",
     "output_type": "stream",
     "text": [
      "=== Optimized Model Performance (Threshold = 0.20) ===\n",
      "Accuracy: 0.972\n",
      "F1 Score: 0.872\n",
      "Precision: 0.773\n",
      "Recall: 1.000\n",
      "ROC AUC: 0.984\n",
      "\n",
      "Optimized Classification Report:\n",
      "              precision    recall  f1-score   support\n",
      "\n",
      "           0       1.00      0.97      0.98       162\n",
      "           1       0.77      1.00      0.87        17\n",
      "\n",
      "    accuracy                           0.97       179\n",
      "   macro avg       0.89      0.98      0.93       179\n",
      "weighted avg       0.98      0.97      0.97       179\n",
      "\n",
      "\n",
      "Optimized Prediction Distribution:\n",
      "Predicted 0 (unsuccessful): 157\n",
      "Predicted 1 (successful): 22\n",
      "Actual successful calls: 17\n"
     ]
    }
   ],
   "source": [
    "from sklearn.metrics import precision_score, recall_score, classification_report\n",
    "\n",
    "y_pred_optimized = (y_pred_proba >= 0.20).astype(int)\n",
    "\n",
    "print(\"=== Optimized Model Performance (Threshold = 0.20) ===\")\n",
    "print(f\"Accuracy: {accuracy_score(y_test, y_pred_optimized):.3f}\")\n",
    "print(f\"F1 Score: {f1_score(y_test, y_pred_optimized):.3f}\")\n",
    "print(f\"Precision: {precision_score(y_test, y_pred_optimized):.3f}\")\n",
    "print(f\"Recall: {recall_score(y_test, y_pred_optimized):.3f}\")\n",
    "print(f\"ROC AUC: {roc_auc_score(y_test, y_pred_proba):.3f}\")  # Same as before\n",
    "\n",
    "print(\"\\nOptimized Classification Report:\")\n",
    "print(classification_report(y_test, y_pred_optimized))\n",
    "\n",
    "print(f\"\\nOptimized Prediction Distribution:\")\n",
    "print(f\"Predicted 0 (unsuccessful): {sum(y_pred_optimized == 0)}\")\n",
    "print(f\"Predicted 1 (successful): {sum(y_pred_optimized == 1)}\")\n",
    "print(f\"Actual successful calls: {sum(y_test == 1)}\")"
   ]
  },
  {
   "cell_type": "markdown",
   "metadata": {},
   "source": [
    "### model 1 conclusion:\n",
    "1. 100% recall: the model catches ALL successful sales calls. \n",
    "2. 0.2 is an optimal thres. \n",
    "3. All the metrics are good\n",
    "4. precision 77.3%: the model predicts some negative case as positive.\n",
    "5. this is acceptable: better to have false pos than false neg (rather waste time on a few extra calls than miss a potential sale)."
   ]
  },
  {
   "cell_type": "markdown",
   "metadata": {},
   "source": [
    "# 9. Second model: RandomForestClassifier with hyperparamter tuning"
   ]
  },
  {
   "cell_type": "code",
   "execution_count": 23,
   "metadata": {},
   "outputs": [
    {
     "name": "stdout",
     "output_type": "stream",
     "text": [
      "=== Advanced Model with Hyperparameter Tuning ===\n",
      "Starting hyperparameter search...\n",
      "Fitting 5 folds for each of 50 candidates, totalling 250 fits\n",
      "\n",
      "Best parameters found:\n",
      "  n_estimators: 100\n",
      "  min_samples_split: 10\n",
      "  min_samples_leaf: 4\n",
      "  max_features: sqrt\n",
      "  max_depth: 20\n",
      "  bootstrap: False\n",
      "\n",
      "Best cross-validation F1 score: 0.838\n"
     ]
    }
   ],
   "source": [
    "from sklearn.model_selection import GridSearchCV, RandomizedSearchCV\n",
    "from sklearn.ensemble import RandomForestClassifier\n",
    "import numpy as np\n",
    "\n",
    "print(\"=== Advanced Model with Hyperparameter Tuning ===\")\n",
    "\n",
    "# Define parameter grid for tuning\n",
    "param_grid = {\n",
    "    'n_estimators': [100, 200, 300],\n",
    "    'max_depth': [10, 20, 30, None],\n",
    "    'min_samples_split': [2, 5, 10],\n",
    "    'min_samples_leaf': [1, 2, 4],\n",
    "    'max_features': ['sqrt', 'log2', None],\n",
    "    'bootstrap': [True, False]\n",
    "}\n",
    "\n",
    "# Create base model\n",
    "rf_base = RandomForestClassifier(\n",
    "    class_weight='balanced',\n",
    "    random_state=42,\n",
    "    n_jobs=-1  # Use all CPU cores\n",
    ")\n",
    "\n",
    "# Randomized search (faster than GridSearch for large parameter space)\n",
    "print(\"Starting hyperparameter search...\")\n",
    "random_search = RandomizedSearchCV(\n",
    "    estimator=rf_base,\n",
    "    param_distributions=param_grid,\n",
    "    n_iter=50,  # Try 50 random combinations\n",
    "    cv=5,       # 5-fold cross-validation\n",
    "    scoring='f1',  # Optimize for F1 score\n",
    "    n_jobs=-1,\n",
    "    random_state=42,\n",
    "    verbose=1\n",
    ")\n",
    "\n",
    "# Fit the random search\n",
    "random_search.fit(X_train, y_train)\n",
    "\n",
    "print(f\"\\nBest parameters found:\")\n",
    "for param, value in random_search.best_params_.items():\n",
    "    print(f\"  {param}: {value}\")\n",
    "\n",
    "print(f\"\\nBest cross-validation F1 score: {random_search.best_score_:.3f}\")\n",
    "\n",
    "# Get the best model\n",
    "clf_advanced = random_search.best_estimator_"
   ]
  },
  {
   "cell_type": "code",
   "execution_count": 24,
   "metadata": {},
   "outputs": [
    {
     "name": "stdout",
     "output_type": "stream",
     "text": [
      "\n",
      "=== Training Advanced Model ===\n",
      "Advanced model training completed!\n"
     ]
    }
   ],
   "source": [
    "# Train and evaluate the advanced model\n",
    "print(\"\\n=== Training Advanced Model ===\")\n",
    "clf_advanced.fit(X_train, y_train)\n",
    "\n",
    "# Make predictions\n",
    "y_pred_advanced = clf_advanced.predict(X_test)\n",
    "y_pred_proba_advanced = clf_advanced.predict_proba(X_test)[:, 1]\n",
    "\n",
    "print(\"Advanced model training completed!\")"
   ]
  },
  {
   "cell_type": "code",
   "execution_count": 25,
   "metadata": {},
   "outputs": [
    {
     "name": "stdout",
     "output_type": "stream",
     "text": [
      "=== Advanced Model Performance (Default Threshold = 0.5) ===\n",
      "Accuracy: 0.972\n",
      "F1 Score: 0.872\n",
      "Precision: 0.773\n",
      "Recall: 1.000\n",
      "ROC AUC: 0.982\n"
     ]
    }
   ],
   "source": [
    "# Evaluate advanced model with default threshold\n",
    "from sklearn.metrics import precision_score, recall_score, classification_report\n",
    "\n",
    "print(\"=== Advanced Model Performance (Default Threshold = 0.5) ===\")\n",
    "print(f\"Accuracy: {accuracy_score(y_test, y_pred_advanced):.3f}\")\n",
    "print(f\"F1 Score: {f1_score(y_test, y_pred_advanced):.3f}\")\n",
    "print(f\"Precision: {precision_score(y_test, y_pred_advanced):.3f}\")\n",
    "print(f\"Recall: {recall_score(y_test, y_pred_advanced):.3f}\")\n",
    "print(f\"ROC AUC: {roc_auc_score(y_test, y_pred_proba_advanced):.3f}\")"
   ]
  },
  {
   "cell_type": "code",
   "execution_count": 26,
   "metadata": {},
   "outputs": [
    {
     "name": "stdout",
     "output_type": "stream",
     "text": [
      "\n",
      "=== Optimizing Threshold for Advanced Model ===\n",
      "Optimal threshold for advanced model: 0.50\n",
      "Best F1 score: 0.872\n"
     ]
    }
   ],
   "source": [
    "# Optimize threshold for advanced model\n",
    "print(\"\\n=== Optimizing Threshold for Advanced Model ===\")\n",
    "thresholds = np.arange(0.1, 0.9, 0.05)\n",
    "f1_scores_advanced = []\n",
    "\n",
    "for threshold in thresholds:\n",
    "    y_pred_threshold_advanced = (y_pred_proba_advanced >= threshold).astype(int)\n",
    "    f1 = f1_score(y_test, y_pred_threshold_advanced)\n",
    "    f1_scores_advanced.append(f1)\n",
    "\n",
    "# Find optimal threshold for advanced model\n",
    "best_threshold_advanced = thresholds[np.argmax(f1_scores_advanced)]\n",
    "best_f1_advanced = max(f1_scores_advanced)\n",
    "\n",
    "print(f\"Optimal threshold for advanced model: {best_threshold_advanced:.2f}\")\n",
    "print(f\"Best F1 score: {best_f1_advanced:.3f}\")\n",
    "\n",
    "# Apply optimal threshold to advanced model\n",
    "y_pred_optimized_advanced = (y_pred_proba_advanced >= best_threshold_advanced).astype(int)"
   ]
  },
  {
   "cell_type": "code",
   "execution_count": 27,
   "metadata": {},
   "outputs": [
    {
     "name": "stdout",
     "output_type": "stream",
     "text": [
      "\n",
      "============================================================\n",
      "MODEL COMPARISON\n",
      "============================================================\n",
      "Metric          | Original   | Advanced   | Improvement\n",
      "------------------------------------------------------------\n",
      "Accuracy        | 0.972      | 0.972      | +0.0%\n",
      "F1 Score        | 0.872      | 0.872      | +0.0%\n",
      "Precision       | 0.773      | 0.773      | +0.0%\n",
      "Recall          | 1.000      | 1.000      | +0.0%\n",
      "\n",
      "Optimal thresholds:\n",
      "Original model: 0.20\n",
      "Advanced model: 0.50\n"
     ]
    }
   ],
   "source": [
    "# Compare 2nd model with optimized 1st model\n",
    "print(\"\\n\" + \"=\"*60)\n",
    "print(\"MODEL COMPARISON\")\n",
    "print(\"=\"*60)\n",
    "\n",
    "print(f\"{'Metric':<15} | {'Original':<10} | {'Advanced':<10} | {'Improvement'}\")\n",
    "print(\"-\" * 60)\n",
    "\n",
    "# Original model metrics (with optimized threshold 0.20)\n",
    "orig_acc = accuracy_score(y_test, y_pred_optimized)\n",
    "orig_f1 = f1_score(y_test, y_pred_optimized)\n",
    "orig_prec = precision_score(y_test, y_pred_optimized)\n",
    "orig_rec = recall_score(y_test, y_pred_optimized)\n",
    "\n",
    "# Advanced model metrics (with its optimized threshold)\n",
    "adv_acc = accuracy_score(y_test, y_pred_optimized_advanced)\n",
    "adv_f1 = f1_score(y_test, y_pred_optimized_advanced)\n",
    "adv_prec = precision_score(y_test, y_pred_optimized_advanced)\n",
    "adv_rec = recall_score(y_test, y_pred_optimized_advanced)\n",
    "\n",
    "print(f\"{'Accuracy':<15} | {orig_acc:<10.3f} | {adv_acc:<10.3f} | {'+' if adv_acc > orig_acc else ''}{(adv_acc - orig_acc)*100:+.1f}%\")\n",
    "print(f\"{'F1 Score':<15} | {orig_f1:<10.3f} | {adv_f1:<10.3f} | {'+' if adv_f1 > orig_f1 else ''}{(adv_f1 - orig_f1)*100:+.1f}%\")\n",
    "print(f\"{'Precision':<15} | {orig_prec:<10.3f} | {adv_prec:<10.3f} | {'+' if adv_prec > orig_prec else ''}{(adv_prec - orig_prec)*100:+.1f}%\")\n",
    "print(f\"{'Recall':<15} | {orig_rec:<10.3f} | {adv_rec:<10.3f} | {'+' if adv_rec > orig_rec else ''}{(adv_rec - orig_rec)*100:+.1f}%\")\n",
    "\n",
    "print(f\"\\nOptimal thresholds:\")\n",
    "print(f\"Original model: 0.20\")\n",
    "print(f\"Advanced model: {best_threshold_advanced:.2f}\")"
   ]
  },
  {
   "cell_type": "markdown",
   "metadata": {},
   "source": [
    "# 10. Third model: top 15 features\n",
    "to see if fewer features can make the precision better "
   ]
  },
  {
   "cell_type": "code",
   "execution_count": 28,
   "metadata": {},
   "outputs": [
    {
     "name": "stdout",
     "output_type": "stream",
     "text": [
      "=== Top 15 Features Selected ===\n",
      " 1. channel_2_overall_formant1               0.2420\n",
      " 2. channel_1_overall_formant1               0.1815\n",
      " 3. channel_2_overall_formant2               0.1366\n",
      " 4. channel_1_overall_formant2               0.1283\n",
      " 5. ratios_overall_formant1                  0.0454\n",
      " 6. ratios_overall_formant2                  0.0351\n",
      " 7. ratios_overall_rms_mean                  0.0138\n",
      " 8. channel_2_overall_db_std                 0.0129\n",
      " 9. channel_1_overall_db_mean                0.0114\n",
      "10. channel_2_overall_f0_std                 0.0107\n",
      "11. ratios_overall_db_mean                   0.0102\n",
      "12. channel_2_overall_f0_range               0.0090\n",
      "13. channel_2_overall_f0_slope               0.0077\n",
      "14. channel_2_overall_f0_mean                0.0063\n",
      "15. channel_1_overall_f0_std                 0.0060\n"
     ]
    }
   ],
   "source": [
    "# Get top 15 features from original model\n",
    "feature_importance = pd.DataFrame({\n",
    "    'feature': X_train.columns,\n",
    "    'importance': clf.feature_importances_\n",
    "}).sort_values('importance', ascending=False)\n",
    "\n",
    "top_15_features = feature_importance.head(15)['feature'].tolist()\n",
    "\n",
    "print(\"=== Top 15 Features Selected ===\")\n",
    "for i, feature in enumerate(top_15_features, 1):\n",
    "    importance = feature_importance[feature_importance['feature'] == feature]['importance'].iloc[0]\n",
    "    print(f\"{i:2d}. {feature:<40} {importance:.4f}\")"
   ]
  },
  {
   "cell_type": "code",
   "execution_count": 29,
   "metadata": {},
   "outputs": [
    {
     "name": "stdout",
     "output_type": "stream",
     "text": [
      "\n",
      "Reduced dataset shape:\n",
      "Original features: 63\n",
      "Top 15 features: 15\n",
      "Feature reduction: 76.2%\n"
     ]
    }
   ],
   "source": [
    "# Create training and test sets with only top 15 features\n",
    "X_train_top15 = X_train[top_15_features]\n",
    "X_test_top15 = X_test[top_15_features]\n",
    "\n",
    "print(f\"\\nReduced dataset shape:\")\n",
    "print(f\"Original features: {X_train.shape[1]}\")\n",
    "print(f\"Top 15 features: {X_train_top15.shape[1]}\")\n",
    "print(f\"Feature reduction: {((X_train.shape[1] - 15) / X_train.shape[1] * 100):.1f}%\")"
   ]
  },
  {
   "cell_type": "code",
   "execution_count": 30,
   "metadata": {},
   "outputs": [
    {
     "name": "stdout",
     "output_type": "stream",
     "text": [
      "\n",
      "=== Training Top 15 Features Model ===\n",
      "Top 15 features model training completed!\n"
     ]
    }
   ],
   "source": [
    "# Train the top 15 features model\n",
    "print(\"\\n=== Training Top 15 Features Model ===\")\n",
    "\n",
    "clf_top15 = RandomForestClassifier(\n",
    "    class_weight='balanced',\n",
    "    random_state=42,\n",
    "    n_estimators=100,  # Use same as original for fair comparison\n",
    ")\n",
    "\n",
    "clf_top15.fit(X_train_top15, y_train)\n",
    "\n",
    "# Make predictions\n",
    "y_pred_top15 = clf_top15.predict(X_test_top15)\n",
    "y_pred_proba_top15 = clf_top15.predict_proba(X_test_top15)[:, 1]\n",
    "\n",
    "print(\"Top 15 features model training completed!\")"
   ]
  },
  {
   "cell_type": "code",
   "execution_count": 31,
   "metadata": {},
   "outputs": [
    {
     "name": "stdout",
     "output_type": "stream",
     "text": [
      "\n",
      "=== Top 15 Features Model Performance with default threshold = 0.5 ===\n",
      "Accuracy: 0.939\n",
      "F1 Score: 0.667\n",
      "Precision: 0.688\n",
      "Recall: 0.647\n",
      "ROC AUC: 0.977\n"
     ]
    }
   ],
   "source": [
    "# Evaluate with default threshold first\n",
    "print(\"\\n=== Top 15 Features Model Performance with default threshold = 0.5 ===\")\n",
    "print(f\"Accuracy: {accuracy_score(y_test, y_pred_top15):.3f}\")\n",
    "print(f\"F1 Score: {f1_score(y_test, y_pred_top15):.3f}\")\n",
    "print(f\"Precision: {precision_score(y_test, y_pred_top15):.3f}\")\n",
    "print(f\"Recall: {recall_score(y_test, y_pred_top15):.3f}\")\n",
    "print(f\"ROC AUC: {roc_auc_score(y_test, y_pred_proba_top15):.3f}\")"
   ]
  },
  {
   "cell_type": "code",
   "execution_count": 32,
   "metadata": {},
   "outputs": [
    {
     "name": "stdout",
     "output_type": "stream",
     "text": [
      "\n",
      "=== Optimizing Threshold for Top 15 Features Model ===\n",
      "Optimal threshold for top 15 model: 0.25\n",
      "Best F1 score: 0.850\n"
     ]
    }
   ],
   "source": [
    "# Optimize threshold for top 15 model\n",
    "print(\"\\n=== Optimizing Threshold for Top 15 Features Model ===\")\n",
    "thresholds = np.arange(0.1, 0.9, 0.05)\n",
    "f1_scores_top15 = []\n",
    "\n",
    "for threshold in thresholds:\n",
    "    y_pred_threshold_top15 = (y_pred_proba_top15 >= threshold).astype(int)\n",
    "    f1 = f1_score(y_test, y_pred_threshold_top15)\n",
    "    f1_scores_top15.append(f1)\n",
    "\n",
    "# Find optimal threshold for top 15 model\n",
    "best_threshold_top15 = thresholds[np.argmax(f1_scores_top15)]\n",
    "best_f1_top15 = max(f1_scores_top15)\n",
    "\n",
    "print(f\"Optimal threshold for top 15 model: {best_threshold_top15:.2f}\")\n",
    "print(f\"Best F1 score: {best_f1_top15:.3f}\")\n",
    "\n",
    "# Apply optimal threshold to top 15 model\n",
    "y_pred_optimized_top15 = (y_pred_proba_top15 >= best_threshold_top15).astype(int)"
   ]
  },
  {
   "cell_type": "code",
   "execution_count": 33,
   "metadata": {},
   "outputs": [
    {
     "name": "stdout",
     "output_type": "stream",
     "text": [
      "\n",
      "================================================================================\n",
      "THREE-MODEL COMPARISON\n",
      "================================================================================\n",
      "Metric          | Original   | Advanced   | Top 15     | Best Model\n",
      "--------------------------------------------------------------------------------\n",
      "Accuracy        | 0.972      | 0.972      | 0.966      | Original\n",
      "F1 Score        | 0.872      | 0.872      | 0.850      | Original\n",
      "Precision       | 0.773      | 0.773      | 0.739      | Original\n",
      "Recall          | 1.000      | 1.000      | 1.000      | Original\n",
      "\n",
      "Model Complexity:\n",
      "• Original: 63 features, threshold=0.2\n",
      "• Advanced: 63 features, threshold=0.50\n",
      "• Top 15:   15 features, threshold=0.25\n"
     ]
    }
   ],
   "source": [
    "# Compare all three models so far\n",
    "print(\"\\n\" + \"=\"*80)\n",
    "print(\"THREE-MODEL COMPARISON\")\n",
    "print(\"=\"*80)\n",
    "\n",
    "print(f\"{'Metric':<15} | {'Original':<10} | {'Advanced':<10} | {'Top 15':<10} | {'Best Model'}\")\n",
    "print(\"-\" * 80)\n",
    "\n",
    "# Calculate metrics for top 15 model\n",
    "top15_acc = accuracy_score(y_test, y_pred_optimized_top15)\n",
    "top15_f1 = f1_score(y_test, y_pred_optimized_top15)\n",
    "top15_prec = precision_score(y_test, y_pred_optimized_top15)\n",
    "top15_rec = recall_score(y_test, y_pred_optimized_top15)\n",
    "\n",
    "# Find best for each metric\n",
    "best_acc = max(orig_acc, adv_acc, top15_acc)\n",
    "best_f1 = max(orig_f1, adv_f1, top15_f1)\n",
    "best_prec = max(orig_prec, adv_prec, top15_prec)\n",
    "best_rec = max(orig_rec, adv_rec, top15_rec)\n",
    "\n",
    "def get_winner(orig, adv, top15):\n",
    "    if orig >= adv and orig >= top15:\n",
    "        return \"Original\"\n",
    "    elif adv >= orig and adv >= top15:\n",
    "        return \"Advanced\" \n",
    "    else:\n",
    "        return \"Top 15\"\n",
    "\n",
    "print(f\"{'Accuracy':<15} | {orig_acc:<10.3f} | {adv_acc:<10.3f} | {top15_acc:<10.3f} | {get_winner(orig_acc, adv_acc, top15_acc)}\")\n",
    "print(f\"{'F1 Score':<15} | {orig_f1:<10.3f} | {adv_f1:<10.3f} | {top15_f1:<10.3f} | {get_winner(orig_f1, adv_f1, top15_f1)}\")\n",
    "print(f\"{'Precision':<15} | {orig_prec:<10.3f} | {adv_prec:<10.3f} | {top15_prec:<10.3f} | {get_winner(orig_prec, adv_prec, top15_prec)}\")\n",
    "print(f\"{'Recall':<15} | {orig_rec:<10.3f} | {adv_rec:<10.3f} | {top15_rec:<10.3f} | {get_winner(orig_rec, adv_rec, top15_rec)}\")\n",
    "\n",
    "print(f\"\\nModel Complexity:\")\n",
    "print(f\"• Original: {X_train.shape[1]} features, threshold={0.20}\")\n",
    "print(f\"• Advanced: {X_train.shape[1]} features, threshold={best_threshold_advanced:.2f}\")\n",
    "print(f\"• Top 15:   {15} features, threshold={best_threshold_top15:.2f}\")"
   ]
  },
  {
   "cell_type": "markdown",
   "metadata": {},
   "source": [
    "# next step:\n",
    "the previous models has perfect recall (100%), but precision is 77.3%. We can try to balance between recall and precision if the cost of false positive is too high. \n",
    "\n",
    "For now, let us try XGboost, to see if we can have both high recall and precision. \n",
    "\n",
    "Spoiler alert, the next models are not able to achieve higher precision. You can skip and go directly to Section 13."
   ]
  },
  {
   "cell_type": "markdown",
   "metadata": {},
   "source": [
    "# 11. Forth and fifth model: XGBoost and LightGBM"
   ]
  },
  {
   "cell_type": "code",
   "execution_count": 34,
   "metadata": {},
   "outputs": [],
   "source": [
    "from sklearn.ensemble import GradientBoostingClassifier\n",
    "from xgboost import XGBClassifier\n",
    "from lightgbm import LGBMClassifier\n",
    "\n",
    "# XGBoost - often superior for imbalanced data\n",
    "xgb_model = XGBClassifier(\n",
    "    scale_pos_weight=9,  # ratio of negative to positive samples (162/17 ≈ 9.5)\n",
    "    max_depth=6,\n",
    "    learning_rate=0.1,\n",
    "    n_estimators=200,\n",
    "    random_state=42\n",
    ")\n",
    "\n",
    "# LightGBM - faster and often better calibrated\n",
    "lgb_model = LGBMClassifier(\n",
    "    class_weight='balanced',\n",
    "    num_leaves=31,\n",
    "    learning_rate=0.1,\n",
    "    n_estimators=200,\n",
    "    random_state=42\n",
    ")"
   ]
  },
  {
   "cell_type": "code",
   "execution_count": 35,
   "metadata": {},
   "outputs": [
    {
     "name": "stdout",
     "output_type": "stream",
     "text": [
      "=== Training XGBoost Model ===\n",
      "XGBoost model training completed!\n"
     ]
    }
   ],
   "source": [
    "# Train XGBoost model\n",
    "print(\"=== Training XGBoost Model ===\")\n",
    "xgb_model.fit(X_train, y_train)\n",
    "\n",
    "# Make predictions\n",
    "y_pred_xgb = xgb_model.predict(X_test)\n",
    "y_pred_proba_xgb = xgb_model.predict_proba(X_test)[:, 1]\n",
    "\n",
    "print(\"XGBoost model training completed!\")"
   ]
  },
  {
   "cell_type": "code",
   "execution_count": 36,
   "metadata": {},
   "outputs": [
    {
     "name": "stdout",
     "output_type": "stream",
     "text": [
      "=== Training LightGBM Model ===\n",
      "[LightGBM] [Info] Number of positive: 69, number of negative: 647\n",
      "[LightGBM] [Info] Auto-choosing col-wise multi-threading, the overhead of testing was 0.000388 seconds.\n",
      "You can set `force_col_wise=true` to remove the overhead.\n",
      "[LightGBM] [Info] Total Bins 13001\n",
      "[LightGBM] [Info] Number of data points in the train set: 716, number of used features: 62\n",
      "[LightGBM] [Info] [binary:BoostFromScore]: pavg=0.500000 -> initscore=0.000000\n",
      "[LightGBM] [Info] Start training from score 0.000000\n",
      "[LightGBM] [Warning] No further splits with positive gain, best gain: -inf\n",
      "[LightGBM] [Warning] No further splits with positive gain, best gain: -inf\n",
      "[LightGBM] [Warning] No further splits with positive gain, best gain: -inf\n",
      "[LightGBM] [Warning] No further splits with positive gain, best gain: -inf\n",
      "[LightGBM] [Warning] No further splits with positive gain, best gain: -inf\n",
      "[LightGBM] [Warning] No further splits with positive gain, best gain: -inf\n",
      "[LightGBM] [Warning] No further splits with positive gain, best gain: -inf\n",
      "[LightGBM] [Warning] No further splits with positive gain, best gain: -inf\n",
      "[LightGBM] [Warning] No further splits with positive gain, best gain: -inf\n",
      "[LightGBM] [Warning] No further splits with positive gain, best gain: -inf\n",
      "[LightGBM] [Warning] No further splits with positive gain, best gain: -inf\n",
      "[LightGBM] [Warning] No further splits with positive gain, best gain: -inf\n",
      "[LightGBM] [Warning] No further splits with positive gain, best gain: -inf\n",
      "[LightGBM] [Warning] No further splits with positive gain, best gain: -inf\n",
      "[LightGBM] [Warning] No further splits with positive gain, best gain: -inf\n",
      "[LightGBM] [Warning] No further splits with positive gain, best gain: -inf\n",
      "[LightGBM] [Warning] No further splits with positive gain, best gain: -inf\n",
      "[LightGBM] [Warning] No further splits with positive gain, best gain: -inf\n",
      "[LightGBM] [Warning] No further splits with positive gain, best gain: -inf\n",
      "[LightGBM] [Warning] No further splits with positive gain, best gain: -inf\n",
      "[LightGBM] [Warning] No further splits with positive gain, best gain: -inf\n",
      "[LightGBM] [Warning] No further splits with positive gain, best gain: -inf\n",
      "[LightGBM] [Warning] No further splits with positive gain, best gain: -inf\n",
      "[LightGBM] [Warning] No further splits with positive gain, best gain: -inf\n",
      "[LightGBM] [Warning] No further splits with positive gain, best gain: -inf\n",
      "[LightGBM] [Warning] No further splits with positive gain, best gain: -inf\n",
      "[LightGBM] [Warning] No further splits with positive gain, best gain: -inf\n",
      "[LightGBM] [Warning] No further splits with positive gain, best gain: -inf\n",
      "[LightGBM] [Warning] No further splits with positive gain, best gain: -inf\n",
      "[LightGBM] [Warning] No further splits with positive gain, best gain: -inf\n",
      "[LightGBM] [Warning] No further splits with positive gain, best gain: -inf\n",
      "[LightGBM] [Warning] No further splits with positive gain, best gain: -inf\n",
      "[LightGBM] [Warning] No further splits with positive gain, best gain: -inf\n",
      "[LightGBM] [Warning] No further splits with positive gain, best gain: -inf\n",
      "[LightGBM] [Warning] No further splits with positive gain, best gain: -inf\n",
      "[LightGBM] [Warning] No further splits with positive gain, best gain: -inf\n",
      "[LightGBM] [Warning] No further splits with positive gain, best gain: -inf\n",
      "[LightGBM] [Warning] No further splits with positive gain, best gain: -inf\n",
      "[LightGBM] [Warning] No further splits with positive gain, best gain: -inf\n",
      "[LightGBM] [Warning] No further splits with positive gain, best gain: -inf\n",
      "[LightGBM] [Warning] No further splits with positive gain, best gain: -inf\n",
      "[LightGBM] [Warning] No further splits with positive gain, best gain: -inf\n",
      "[LightGBM] [Warning] No further splits with positive gain, best gain: -inf\n",
      "[LightGBM] [Warning] No further splits with positive gain, best gain: -inf\n",
      "[LightGBM] [Warning] No further splits with positive gain, best gain: -inf\n",
      "[LightGBM] [Warning] No further splits with positive gain, best gain: -inf\n",
      "[LightGBM] [Warning] No further splits with positive gain, best gain: -inf\n",
      "[LightGBM] [Warning] No further splits with positive gain, best gain: -inf\n",
      "[LightGBM] [Warning] No further splits with positive gain, best gain: -inf\n",
      "[LightGBM] [Warning] No further splits with positive gain, best gain: -inf\n",
      "[LightGBM] [Warning] No further splits with positive gain, best gain: -inf\n",
      "[LightGBM] [Warning] No further splits with positive gain, best gain: -inf\n",
      "[LightGBM] [Warning] No further splits with positive gain, best gain: -inf\n",
      "[LightGBM] [Warning] No further splits with positive gain, best gain: -inf\n",
      "[LightGBM] [Warning] No further splits with positive gain, best gain: -inf\n",
      "[LightGBM] [Warning] No further splits with positive gain, best gain: -inf\n",
      "[LightGBM] [Warning] No further splits with positive gain, best gain: -inf\n",
      "[LightGBM] [Warning] No further splits with positive gain, best gain: -inf\n",
      "[LightGBM] [Warning] No further splits with positive gain, best gain: -inf\n",
      "[LightGBM] [Warning] No further splits with positive gain, best gain: -inf\n",
      "[LightGBM] [Warning] No further splits with positive gain, best gain: -inf\n",
      "[LightGBM] [Warning] No further splits with positive gain, best gain: -inf\n",
      "[LightGBM] [Warning] No further splits with positive gain, best gain: -inf\n",
      "[LightGBM] [Warning] No further splits with positive gain, best gain: -inf\n",
      "[LightGBM] [Warning] No further splits with positive gain, best gain: -inf\n",
      "[LightGBM] [Warning] No further splits with positive gain, best gain: -inf\n",
      "[LightGBM] [Warning] No further splits with positive gain, best gain: -inf\n",
      "[LightGBM] [Warning] No further splits with positive gain, best gain: -inf\n",
      "[LightGBM] [Warning] No further splits with positive gain, best gain: -inf\n",
      "[LightGBM] [Warning] No further splits with positive gain, best gain: -inf\n",
      "[LightGBM] [Warning] No further splits with positive gain, best gain: -inf\n",
      "[LightGBM] [Warning] No further splits with positive gain, best gain: -inf\n",
      "[LightGBM] [Warning] No further splits with positive gain, best gain: -inf\n",
      "[LightGBM] [Warning] No further splits with positive gain, best gain: -inf\n",
      "[LightGBM] [Warning] No further splits with positive gain, best gain: -inf\n",
      "[LightGBM] [Warning] No further splits with positive gain, best gain: -inf\n",
      "[LightGBM] [Warning] No further splits with positive gain, best gain: -inf\n",
      "[LightGBM] [Warning] No further splits with positive gain, best gain: -inf\n",
      "[LightGBM] [Warning] No further splits with positive gain, best gain: -inf\n",
      "[LightGBM] [Warning] No further splits with positive gain, best gain: -inf\n",
      "[LightGBM] [Warning] No further splits with positive gain, best gain: -inf\n",
      "[LightGBM] [Warning] No further splits with positive gain, best gain: -inf\n",
      "[LightGBM] [Warning] No further splits with positive gain, best gain: -inf\n",
      "[LightGBM] [Warning] No further splits with positive gain, best gain: -inf\n",
      "[LightGBM] [Warning] No further splits with positive gain, best gain: -inf\n",
      "[LightGBM] [Warning] No further splits with positive gain, best gain: -inf\n",
      "[LightGBM] [Warning] No further splits with positive gain, best gain: -inf\n",
      "[LightGBM] [Warning] No further splits with positive gain, best gain: -inf\n",
      "[LightGBM] [Warning] No further splits with positive gain, best gain: -inf\n",
      "[LightGBM] [Warning] No further splits with positive gain, best gain: -inf\n",
      "[LightGBM] [Warning] No further splits with positive gain, best gain: -inf\n",
      "[LightGBM] [Warning] No further splits with positive gain, best gain: -inf\n",
      "[LightGBM] [Warning] No further splits with positive gain, best gain: -inf\n",
      "[LightGBM] [Warning] No further splits with positive gain, best gain: -inf\n",
      "[LightGBM] [Warning] No further splits with positive gain, best gain: -inf\n",
      "[LightGBM] [Warning] No further splits with positive gain, best gain: -inf\n",
      "[LightGBM] [Warning] No further splits with positive gain, best gain: -inf\n",
      "[LightGBM] [Warning] No further splits with positive gain, best gain: -inf\n",
      "[LightGBM] [Warning] No further splits with positive gain, best gain: -inf\n",
      "[LightGBM] [Warning] No further splits with positive gain, best gain: -inf\n",
      "[LightGBM] [Warning] No further splits with positive gain, best gain: -inf\n",
      "[LightGBM] [Warning] No further splits with positive gain, best gain: -inf\n",
      "[LightGBM] [Warning] No further splits with positive gain, best gain: -inf\n",
      "[LightGBM] [Warning] No further splits with positive gain, best gain: -inf\n",
      "[LightGBM] [Warning] No further splits with positive gain, best gain: -inf\n",
      "[LightGBM] [Warning] No further splits with positive gain, best gain: -inf\n",
      "[LightGBM] [Warning] No further splits with positive gain, best gain: -inf\n",
      "[LightGBM] [Warning] No further splits with positive gain, best gain: -inf\n",
      "[LightGBM] [Warning] No further splits with positive gain, best gain: -inf\n",
      "[LightGBM] [Warning] No further splits with positive gain, best gain: -inf\n",
      "[LightGBM] [Warning] No further splits with positive gain, best gain: -inf\n",
      "[LightGBM] [Warning] No further splits with positive gain, best gain: -inf\n",
      "[LightGBM] [Warning] No further splits with positive gain, best gain: -inf\n",
      "[LightGBM] [Warning] No further splits with positive gain, best gain: -inf\n",
      "[LightGBM] [Warning] No further splits with positive gain, best gain: -inf\n",
      "[LightGBM] [Warning] No further splits with positive gain, best gain: -inf\n",
      "[LightGBM] [Warning] No further splits with positive gain, best gain: -inf\n",
      "[LightGBM] [Warning] No further splits with positive gain, best gain: -inf\n",
      "[LightGBM] [Warning] No further splits with positive gain, best gain: -inf\n",
      "[LightGBM] [Warning] No further splits with positive gain, best gain: -inf\n",
      "[LightGBM] [Warning] No further splits with positive gain, best gain: -inf\n",
      "[LightGBM] [Warning] No further splits with positive gain, best gain: -inf\n",
      "[LightGBM] [Warning] No further splits with positive gain, best gain: -inf\n",
      "[LightGBM] [Warning] No further splits with positive gain, best gain: -inf\n",
      "[LightGBM] [Warning] No further splits with positive gain, best gain: -inf\n",
      "[LightGBM] [Warning] No further splits with positive gain, best gain: -inf\n",
      "[LightGBM] [Warning] No further splits with positive gain, best gain: -inf\n",
      "[LightGBM] [Warning] No further splits with positive gain, best gain: -inf\n",
      "[LightGBM] [Warning] No further splits with positive gain, best gain: -inf\n",
      "[LightGBM] [Warning] No further splits with positive gain, best gain: -inf\n",
      "[LightGBM] [Warning] No further splits with positive gain, best gain: -inf\n",
      "[LightGBM] [Warning] No further splits with positive gain, best gain: -inf\n",
      "[LightGBM] [Warning] No further splits with positive gain, best gain: -inf\n",
      "[LightGBM] [Warning] No further splits with positive gain, best gain: -inf\n",
      "[LightGBM] [Warning] No further splits with positive gain, best gain: -inf\n",
      "[LightGBM] [Warning] No further splits with positive gain, best gain: -inf\n",
      "[LightGBM] [Warning] No further splits with positive gain, best gain: -inf\n",
      "[LightGBM] [Warning] No further splits with positive gain, best gain: -inf\n",
      "[LightGBM] [Warning] No further splits with positive gain, best gain: -inf\n",
      "[LightGBM] [Warning] No further splits with positive gain, best gain: -inf\n",
      "[LightGBM] [Warning] No further splits with positive gain, best gain: -inf\n",
      "[LightGBM] [Warning] No further splits with positive gain, best gain: -inf\n",
      "[LightGBM] [Warning] No further splits with positive gain, best gain: -inf\n",
      "[LightGBM] [Warning] No further splits with positive gain, best gain: -inf\n",
      "[LightGBM] [Warning] No further splits with positive gain, best gain: -inf\n",
      "[LightGBM] [Warning] No further splits with positive gain, best gain: -inf\n",
      "[LightGBM] [Warning] No further splits with positive gain, best gain: -inf\n",
      "[LightGBM] [Warning] No further splits with positive gain, best gain: -inf\n",
      "[LightGBM] [Warning] No further splits with positive gain, best gain: -inf\n",
      "[LightGBM] [Warning] No further splits with positive gain, best gain: -inf\n",
      "[LightGBM] [Warning] No further splits with positive gain, best gain: -inf\n",
      "[LightGBM] [Warning] No further splits with positive gain, best gain: -inf\n",
      "[LightGBM] [Warning] No further splits with positive gain, best gain: -inf\n",
      "[LightGBM] [Warning] No further splits with positive gain, best gain: -inf\n",
      "[LightGBM] [Warning] No further splits with positive gain, best gain: -inf\n",
      "[LightGBM] [Warning] No further splits with positive gain, best gain: -inf\n",
      "[LightGBM] [Warning] No further splits with positive gain, best gain: -inf\n",
      "[LightGBM] [Warning] No further splits with positive gain, best gain: -inf\n",
      "[LightGBM] [Warning] No further splits with positive gain, best gain: -inf\n",
      "[LightGBM] [Warning] No further splits with positive gain, best gain: -inf\n",
      "LightGBM model training completed!\n"
     ]
    }
   ],
   "source": [
    "# Train LightGBM model\n",
    "print(\"=== Training LightGBM Model ===\")\n",
    "lgb_model.fit(X_train, y_train)\n",
    "\n",
    "# Make predictions\n",
    "y_pred_lgb = lgb_model.predict(X_test)\n",
    "y_pred_proba_lgb = lgb_model.predict_proba(X_test)[:, 1]\n",
    "\n",
    "print(\"LightGBM model training completed!\")"
   ]
  },
  {
   "cell_type": "code",
   "execution_count": 37,
   "metadata": {},
   "outputs": [
    {
     "name": "stdout",
     "output_type": "stream",
     "text": [
      "=== XGBoost Model Performance (Default Threshold = 0.5) ===\n",
      "Accuracy: 0.939\n",
      "F1 Score: 0.686\n",
      "Precision: 0.667\n",
      "Recall: 0.706\n",
      "ROC AUC: 0.973\n",
      "\n",
      "=== LightGBM Model Performance (Default Threshold = 0.5) ===\n",
      "Accuracy: 0.944\n",
      "F1 Score: 0.722\n",
      "Precision: 0.684\n",
      "Recall: 0.765\n",
      "ROC AUC: 0.975\n"
     ]
    }
   ],
   "source": [
    "# Evaluate XGBoost with default threshold\n",
    "from sklearn.metrics import precision_score, recall_score, classification_report\n",
    "\n",
    "print(\"=== XGBoost Model Performance (Default Threshold = 0.5) ===\")\n",
    "print(f\"Accuracy: {accuracy_score(y_test, y_pred_xgb):.3f}\")\n",
    "print(f\"F1 Score: {f1_score(y_test, y_pred_xgb):.3f}\")\n",
    "print(f\"Precision: {precision_score(y_test, y_pred_xgb):.3f}\")\n",
    "print(f\"Recall: {recall_score(y_test, y_pred_xgb):.3f}\")\n",
    "print(f\"ROC AUC: {roc_auc_score(y_test, y_pred_proba_xgb):.3f}\")\n",
    "\n",
    "print(\"\\n=== LightGBM Model Performance (Default Threshold = 0.5) ===\")\n",
    "print(f\"Accuracy: {accuracy_score(y_test, y_pred_lgb):.3f}\")\n",
    "print(f\"F1 Score: {f1_score(y_test, y_pred_lgb):.3f}\")\n",
    "print(f\"Precision: {precision_score(y_test, y_pred_lgb):.3f}\")\n",
    "print(f\"Recall: {recall_score(y_test, y_pred_lgb):.3f}\")\n",
    "print(f\"ROC AUC: {roc_auc_score(y_test, y_pred_proba_lgb):.3f}\")"
   ]
  },
  {
   "cell_type": "code",
   "execution_count": 38,
   "metadata": {},
   "outputs": [
    {
     "name": "stdout",
     "output_type": "stream",
     "text": [
      "\n",
      "=== Optimizing Thresholds for Gradient Boosting Models ===\n",
      "XGBoost optimal threshold: 0.10\n",
      "XGBoost best F1 score: 0.850\n",
      "LightGBM optimal threshold: 0.10\n",
      "LightGBM best F1 score: 0.850\n"
     ]
    }
   ],
   "source": [
    "# Optimize thresholds for both gradient boosting models\n",
    "print(\"\\n=== Optimizing Thresholds for Gradient Boosting Models ===\")\n",
    "\n",
    "thresholds = np.arange(0.1, 0.9, 0.05)\n",
    "\n",
    "# XGBoost threshold optimization\n",
    "f1_scores_xgb = []\n",
    "for threshold in thresholds:\n",
    "    y_pred_threshold_xgb = (y_pred_proba_xgb >= threshold).astype(int)\n",
    "    f1 = f1_score(y_test, y_pred_threshold_xgb)\n",
    "    f1_scores_xgb.append(f1)\n",
    "\n",
    "best_threshold_xgb = thresholds[np.argmax(f1_scores_xgb)]\n",
    "best_f1_xgb = max(f1_scores_xgb)\n",
    "y_pred_optimized_xgb = (y_pred_proba_xgb >= best_threshold_xgb).astype(int)\n",
    "\n",
    "print(f\"XGBoost optimal threshold: {best_threshold_xgb:.2f}\")\n",
    "print(f\"XGBoost best F1 score: {best_f1_xgb:.3f}\")\n",
    "\n",
    "# LightGBM threshold optimization\n",
    "f1_scores_lgb = []\n",
    "for threshold in thresholds:\n",
    "    y_pred_threshold_lgb = (y_pred_proba_lgb >= threshold).astype(int)\n",
    "    f1 = f1_score(y_test, y_pred_threshold_lgb)\n",
    "    f1_scores_lgb.append(f1)\n",
    "\n",
    "best_threshold_lgb = thresholds[np.argmax(f1_scores_lgb)]\n",
    "best_f1_lgb = max(f1_scores_lgb)\n",
    "y_pred_optimized_lgb = (y_pred_proba_lgb >= best_threshold_lgb).astype(int)\n",
    "\n",
    "print(f\"LightGBM optimal threshold: {best_threshold_lgb:.2f}\")\n",
    "print(f\"LightGBM best F1 score: {best_f1_lgb:.3f}\")"
   ]
  },
  {
   "cell_type": "code",
   "execution_count": 39,
   "metadata": {},
   "outputs": [
    {
     "name": "stdout",
     "output_type": "stream",
     "text": [
      "\n",
      "=== Optimized Gradient Boosting Results ===\n",
      "XGBoost (threshold=0.10):\n",
      "  Accuracy: 0.966, F1: 0.850, Precision: 0.739, Recall: 1.000\n",
      "LightGBM (threshold=0.10):\n",
      "  Accuracy: 0.966, F1: 0.850, Precision: 0.739, Recall: 1.000\n"
     ]
    }
   ],
   "source": [
    "# Calculate optimized metrics for gradient boosting models\n",
    "xgb_acc = accuracy_score(y_test, y_pred_optimized_xgb)\n",
    "xgb_f1 = f1_score(y_test, y_pred_optimized_xgb)\n",
    "xgb_prec = precision_score(y_test, y_pred_optimized_xgb)\n",
    "xgb_rec = recall_score(y_test, y_pred_optimized_xgb)\n",
    "\n",
    "lgb_acc = accuracy_score(y_test, y_pred_optimized_lgb)\n",
    "lgb_f1 = f1_score(y_test, y_pred_optimized_lgb)\n",
    "lgb_prec = precision_score(y_test, y_pred_optimized_lgb)\n",
    "lgb_rec = recall_score(y_test, y_pred_optimized_lgb)\n",
    "\n",
    "print(\"\\n=== Optimized Gradient Boosting Results ===\")\n",
    "print(f\"XGBoost (threshold={best_threshold_xgb:.2f}):\")\n",
    "print(f\"  Accuracy: {xgb_acc:.3f}, F1: {xgb_f1:.3f}, Precision: {xgb_prec:.3f}, Recall: {xgb_rec:.3f}\")\n",
    "\n",
    "print(f\"LightGBM (threshold={best_threshold_lgb:.2f}):\")\n",
    "print(f\"  Accuracy: {lgb_acc:.3f}, F1: {lgb_f1:.3f}, Precision: {lgb_prec:.3f}, Recall: {lgb_rec:.3f}\")"
   ]
  },
  {
   "cell_type": "markdown",
   "metadata": {},
   "source": [
    "# 12. Sixth model: xgboost with hyperparameter tuning"
   ]
  },
  {
   "cell_type": "code",
   "execution_count": 40,
   "metadata": {},
   "outputs": [
    {
     "name": "stdout",
     "output_type": "stream",
     "text": [
      "=== XGBoost Hyperparameter Tuning ===\n",
      "Starting XGBoost hyperparameter search...\n",
      "This may take several minutes...\n",
      "Fitting 5 folds for each of 100 candidates, totalling 500 fits\n",
      "\n",
      "Best XGBoost parameters found:\n",
      "  subsample: 0.8\n",
      "  scale_pos_weight: 9\n",
      "  reg_lambda: 1\n",
      "  reg_alpha: 0.5\n",
      "  n_estimators: 200\n",
      "  min_child_weight: 1\n",
      "  max_depth: 7\n",
      "  learning_rate: 0.01\n",
      "  gamma: 0.1\n",
      "  colsample_bytree: 0.9\n",
      "\n",
      "Best cross-validation F1 score: 0.840\n"
     ]
    }
   ],
   "source": [
    "from sklearn.model_selection import RandomizedSearchCV\n",
    "import numpy as np\n",
    "\n",
    "print(\"=== XGBoost Hyperparameter Tuning ===\")\n",
    "\n",
    "# Define comprehensive parameter grid for XGBoost\n",
    "xgb_param_grid = {\n",
    "    'n_estimators': [100, 200, 300, 500],\n",
    "    'max_depth': [3, 4, 5, 6, 7, 8],\n",
    "    'learning_rate': [0.01, 0.05, 0.1, 0.15, 0.2],\n",
    "    'subsample': [0.8, 0.9, 1.0],\n",
    "    'colsample_bytree': [0.8, 0.9, 1.0],\n",
    "    'scale_pos_weight': [8, 9, 10, 11, 12],  # Fine-tune class imbalance handling\n",
    "    'min_child_weight': [1, 3, 5, 7],\n",
    "    'gamma': [0, 0.1, 0.2, 0.5],\n",
    "    'reg_alpha': [0, 0.1, 0.5, 1],  # L1 regularization\n",
    "    'reg_lambda': [1, 1.5, 2, 3]    # L2 regularization\n",
    "}\n",
    "\n",
    "# Create base XGBoost model\n",
    "xgb_base = XGBClassifier(\n",
    "    random_state=42,\n",
    "    n_jobs=-1,\n",
    "    eval_metric='logloss'  # Suppress warnings\n",
    ")\n",
    "\n",
    "# Use RandomizedSearchCV for efficiency\n",
    "print(\"Starting XGBoost hyperparameter search...\")\n",
    "print(\"This may take several minutes...\")\n",
    "\n",
    "xgb_random_search = RandomizedSearchCV(\n",
    "    estimator=xgb_base,\n",
    "    param_distributions=xgb_param_grid,\n",
    "    n_iter=100,  # Try 100 random combinations\n",
    "    cv=5,        # 5-fold cross-validation\n",
    "    scoring='f1', # Optimize for F1 score\n",
    "    n_jobs=-1,\n",
    "    random_state=42,\n",
    "    verbose=1\n",
    ")\n",
    "\n",
    "# Fit the search\n",
    "xgb_random_search.fit(X_train, y_train)\n",
    "\n",
    "print(f\"\\nBest XGBoost parameters found:\")\n",
    "for param, value in xgb_random_search.best_params_.items():\n",
    "    print(f\"  {param}: {value}\")\n",
    "\n",
    "print(f\"\\nBest cross-validation F1 score: {xgb_random_search.best_score_:.3f}\")\n",
    "\n",
    "# Get the best model\n",
    "xgb_tuned = xgb_random_search.best_estimator_"
   ]
  },
  {
   "cell_type": "code",
   "execution_count": 41,
   "metadata": {},
   "outputs": [
    {
     "name": "stdout",
     "output_type": "stream",
     "text": [
      "\n",
      "=== Training Tuned XGBoost Model ===\n",
      "Tuned XGBoost model training completed!\n",
      "\n",
      "=== Tuned XGBoost Performance (Default Threshold = 0.5) ===\n",
      "Accuracy: 0.961\n",
      "F1 Score: 0.829\n",
      "Precision: 0.708\n",
      "Recall: 1.000\n",
      "ROC AUC: 0.976\n"
     ]
    }
   ],
   "source": [
    "# Train and evaluate the tuned XGBoost model\n",
    "print(\"\\n=== Training Tuned XGBoost Model ===\")\n",
    "xgb_tuned.fit(X_train, y_train)\n",
    "\n",
    "# Make predictions\n",
    "y_pred_xgb_tuned = xgb_tuned.predict(X_test)\n",
    "y_pred_proba_xgb_tuned = xgb_tuned.predict_proba(X_test)[:, 1]\n",
    "\n",
    "print(\"Tuned XGBoost model training completed!\")\n",
    "\n",
    "# Evaluate with default threshold first\n",
    "print(\"\\n=== Tuned XGBoost Performance (Default Threshold = 0.5) ===\")\n",
    "print(f\"Accuracy: {accuracy_score(y_test, y_pred_xgb_tuned):.3f}\")\n",
    "print(f\"F1 Score: {f1_score(y_test, y_pred_xgb_tuned):.3f}\")\n",
    "print(f\"Precision: {precision_score(y_test, y_pred_xgb_tuned):.3f}\")\n",
    "print(f\"Recall: {recall_score(y_test, y_pred_xgb_tuned):.3f}\")\n",
    "print(f\"ROC AUC: {roc_auc_score(y_test, y_pred_proba_xgb_tuned):.3f}\")"
   ]
  },
  {
   "cell_type": "code",
   "execution_count": 42,
   "metadata": {},
   "outputs": [
    {
     "name": "stdout",
     "output_type": "stream",
     "text": [
      "\n",
      "=== Optimizing Threshold for Tuned XGBoost ===\n",
      "For 100% recall:\n",
      "  Best threshold: 0.125\n",
      "  Precision: 0.708\n",
      "  F1 Score: 0.829\n",
      "\n",
      "Overall best F1:\n",
      "  Best threshold: 0.125\n",
      "  F1 Score: 0.829\n"
     ]
    },
    {
     "name": "stderr",
     "output_type": "stream",
     "text": [
      "/home/jieqiang/miniconda3/lib/python3.13/site-packages/sklearn/metrics/_classification.py:1706: UndefinedMetricWarning: Precision is ill-defined and being set to 0.0 due to no predicted samples. Use `zero_division` parameter to control this behavior.\n",
      "  _warn_prf(average, modifier, f\"{metric.capitalize()} is\", result.shape[0])\n"
     ]
    }
   ],
   "source": [
    "# Optimize threshold for tuned XGBoost\n",
    "print(\"\\n=== Optimizing Threshold for Tuned XGBoost ===\")\n",
    "thresholds = np.arange(0.05, 0.95, 0.025)  # Finer grid for better optimization\n",
    "\n",
    "f1_scores_xgb_tuned = []\n",
    "precision_scores_tuned = []\n",
    "recall_scores_tuned = []\n",
    "\n",
    "for threshold in thresholds:\n",
    "    y_pred_threshold_tuned = (y_pred_proba_xgb_tuned >= threshold).astype(int)\n",
    "    f1 = f1_score(y_test, y_pred_threshold_tuned)\n",
    "    precision = precision_score(y_test, y_pred_threshold_tuned)\n",
    "    recall = recall_score(y_test, y_pred_threshold_tuned)\n",
    "    \n",
    "    f1_scores_xgb_tuned.append(f1)\n",
    "    precision_scores_tuned.append(precision)\n",
    "    recall_scores_tuned.append(recall)\n",
    "\n",
    "# Find optimal threshold for F1\n",
    "best_threshold_xgb_tuned = thresholds[np.argmax(f1_scores_xgb_tuned)]\n",
    "best_f1_xgb_tuned = max(f1_scores_xgb_tuned)\n",
    "\n",
    "# Also find threshold that gives 100% recall with highest precision\n",
    "recall_100_indices = [i for i, r in enumerate(recall_scores_tuned) if r >= 0.999]\n",
    "if recall_100_indices:\n",
    "    best_precision_at_100_recall_idx = max(recall_100_indices, key=lambda i: precision_scores_tuned[i])\n",
    "    threshold_100_recall = thresholds[best_precision_at_100_recall_idx]\n",
    "    precision_at_100_recall = precision_scores_tuned[best_precision_at_100_recall_idx]\n",
    "    \n",
    "    print(f\"For 100% recall:\")\n",
    "    print(f\"  Best threshold: {threshold_100_recall:.3f}\")\n",
    "    print(f\"  Precision: {precision_at_100_recall:.3f}\")\n",
    "    print(f\"  F1 Score: {f1_scores_xgb_tuned[best_precision_at_100_recall_idx]:.3f}\")\n",
    "\n",
    "print(f\"\\nOverall best F1:\")\n",
    "print(f\"  Best threshold: {best_threshold_xgb_tuned:.3f}\")\n",
    "print(f\"  F1 Score: {best_f1_xgb_tuned:.3f}\")\n",
    "\n",
    "# Use the threshold that gives 100% recall for fair comparison\n",
    "if recall_100_indices:\n",
    "    y_pred_optimized_xgb_tuned = (y_pred_proba_xgb_tuned >= threshold_100_recall).astype(int)\n",
    "    final_threshold_tuned = threshold_100_recall\n",
    "else:\n",
    "    y_pred_optimized_xgb_tuned = (y_pred_proba_xgb_tuned >= best_threshold_xgb_tuned).astype(int)\n",
    "    final_threshold_tuned = best_threshold_xgb_tuned"
   ]
  },
  {
   "cell_type": "code",
   "execution_count": 43,
   "metadata": {},
   "outputs": [
    {
     "name": "stdout",
     "output_type": "stream",
     "text": [
      "\n",
      "=== Tuned XGBoost Final Results ===\n",
      "Tuned XGBoost (threshold=0.125):\n",
      "  Accuracy: 0.961\n",
      "  F1 Score: 0.829\n",
      "  Precision: 0.708\n",
      "  Recall: 1.000\n",
      "\n",
      "=== Precision Comparison (at 100% recall) ===\n",
      "Original RandomForest:  0.773\n",
      "Original XGBoost:       0.739\n",
      "Tuned XGBoost:          0.708\n",
      "\n",
      " RandomForest performs better by 6.4% precision\n"
     ]
    }
   ],
   "source": [
    "# Calculate final metrics for tuned XGBoost\n",
    "xgb_tuned_acc = accuracy_score(y_test, y_pred_optimized_xgb_tuned)\n",
    "xgb_tuned_f1 = f1_score(y_test, y_pred_optimized_xgb_tuned)\n",
    "xgb_tuned_prec = precision_score(y_test, y_pred_optimized_xgb_tuned)\n",
    "xgb_tuned_rec = recall_score(y_test, y_pred_optimized_xgb_tuned)\n",
    "\n",
    "print(\"\\n=== Tuned XGBoost Final Results ===\")\n",
    "print(f\"Tuned XGBoost (threshold={final_threshold_tuned:.3f}):\")\n",
    "print(f\"  Accuracy: {xgb_tuned_acc:.3f}\")\n",
    "print(f\"  F1 Score: {xgb_tuned_f1:.3f}\")\n",
    "print(f\"  Precision: {xgb_tuned_prec:.3f}\")\n",
    "print(f\"  Recall: {xgb_tuned_rec:.3f}\")\n",
    "\n",
    "# Compare with original models\n",
    "print(f\"\\n=== Precision Comparison (at 100% recall) ===\")\n",
    "print(f\"Original RandomForest:  {orig_prec:.3f}\")\n",
    "print(f\"Original XGBoost:       {xgb_prec:.3f}\")\n",
    "print(f\"Tuned XGBoost:          {xgb_tuned_prec:.3f}\")\n",
    "\n",
    "if xgb_tuned_prec > orig_prec:\n",
    "    improvement = (xgb_tuned_prec - orig_prec) * 100\n",
    "    print(f\"\\n TUNED XGBOOST performs better! (+{improvement:.1f}% precision improvement)\")\n",
    "else:\n",
    "    decline = (orig_prec - xgb_tuned_prec) * 100\n",
    "    print(f\"\\n RandomForest performs better by {decline:.1f}% precision\")"
   ]
  },
  {
   "cell_type": "markdown",
   "metadata": {},
   "source": [
    "# 13. Final step with overall featuers: keep the recall, and make the precision higher \n",
    "due to possible high false positive cost"
   ]
  },
  {
   "cell_type": "markdown",
   "metadata": {},
   "source": [
    "## 13.1  Stricter Threshold Analysis"
   ]
  },
  {
   "cell_type": "code",
   "execution_count": 44,
   "metadata": {},
   "outputs": [
    {
     "name": "stdout",
     "output_type": "stream",
     "text": [
      "\n",
      "Lowest probability among successful calls: 0.260\n",
      "Using this as threshold would give 100% recall by definition\n",
      "Strict threshold (0.260):\n",
      "  Precision: 0.773, Recall: 1.000, F1: 0.872\n"
     ]
    }
   ],
   "source": [
    "# Analyze the probability distribution to find better thresholds\n",
    "import matplotlib.pyplot as plt\n",
    "\n",
    "# Look at probability distributions for successful vs unsuccessful calls\n",
    "successful_probas = y_pred_proba[y_test == 1]\n",
    "unsuccessful_probas = y_pred_proba[y_test == 0]\n",
    "\n",
    "\n",
    "# Find the minimum probability among successful calls\n",
    "min_successful_proba = successful_probas.min()\n",
    "print(f\"\\nLowest probability among successful calls: {min_successful_proba:.3f}\")\n",
    "print(f\"Using this as threshold would give 100% recall by definition\")\n",
    "\n",
    "# Test this threshold\n",
    "strict_pred = (y_pred_proba >= min_successful_proba).astype(int)\n",
    "strict_prec = precision_score(y_test, strict_pred)\n",
    "strict_rec = recall_score(y_test, strict_pred)\n",
    "strict_f1 = f1_score(y_test, strict_pred)\n",
    "\n",
    "print(f\"Strict threshold ({min_successful_proba:.3f}):\")\n",
    "print(f\"  Precision: {strict_prec:.3f}, Recall: {strict_rec:.3f}, F1: {strict_f1:.3f}\")"
   ]
  },
  {
   "cell_type": "code",
   "execution_count": 45,
   "metadata": {},
   "outputs": [
    {
     "name": "stderr",
     "output_type": "stream",
     "text": [
      "/tmp/ipykernel_50137/2963754786.py:19: MatplotlibDeprecationWarning: The 'labels' parameter of boxplot() has been renamed 'tick_labels' since Matplotlib 3.9; support for the old name will be dropped in 3.11.\n",
      "  plt.boxplot(data_to_plot, labels=['Unsuccessful', 'Successful'])\n"
     ]
    },
    {
     "name": "stdout",
     "output_type": "stream",
     "text": [
      "\n",
      "=== VISUALIZE PROBABILITY DISTRIBUTIONS ===\n"
     ]
    },
    {
     "data": {
      "image/png": "[encoded data removed]",
      "text/plain": [
       "<Figure size 1200x600 with 2 Axes>"
      ]
     },
     "metadata": {},
     "output_type": "display_data"
    },
    {
     "name": "stdout",
     "output_type": "stream",
     "text": [
      "• Clear separation: Successful calls start at 0.260 probability\n",
      "• Current threshold (0.20) captures some low-confidence unsuccessful calls\n",
      "• Most of unsuccessful calls have probability ≤ 0.010\n",
      "• Opportunity: Raise threshold from 0.20 to ~0.26 for better precision\n",
      "• Trade-off: Higher threshold = fewer false positives = higher precision\n",
      "• It is impossible to have 100% precision with current data !\n"
     ]
    }
   ],
   "source": [
    "print(\"\\n=== VISUALIZE PROBABILITY DISTRIBUTIONS ===\")\n",
    "\n",
    "plt.figure(figsize=(12, 6))\n",
    "\n",
    "# Plot histograms\n",
    "plt.subplot(1, 2, 1)\n",
    "plt.hist(unsuccessful_probas, bins=50, alpha=0.7, label='Unsuccessful Calls', color='red', density=True)\n",
    "plt.hist(successful_probas, bins=20, alpha=0.7, label='Successful Calls', color='green', density=True)\n",
    "plt.axvline(x=0.20, color='blue', linestyle='--', label='Current Threshold (0.20)')\n",
    "plt.axvline(x=0.260, color='orange', linestyle='--', label='Min Successful (0.26)')\n",
    "plt.xlabel('Predicted Probability')\n",
    "plt.ylabel('Density')\n",
    "plt.title('Probability Distribution by Call Outcome')\n",
    "plt.legend()\n",
    "\n",
    "# Plot box plots\n",
    "plt.subplot(1, 2, 2)\n",
    "data_to_plot = [unsuccessful_probas, successful_probas]\n",
    "plt.boxplot(data_to_plot, labels=['Unsuccessful', 'Successful'])\n",
    "plt.ylabel('Predicted Probability')\n",
    "plt.title('Probability Distribution Box Plot')\n",
    "plt.grid(True, alpha=0.3)\n",
    "\n",
    "plt.tight_layout()\n",
    "plt.show()\n",
    "\n",
    "# Summary statistics\n",
    "print(f\"• Clear separation: Successful calls start at 0.260 probability\")\n",
    "print(f\"• Current threshold (0.20) captures some low-confidence unsuccessful calls\")\n",
    "print(f\"• Most of unsuccessful calls have probability ≤ 0.010\")\n",
    "print(f\"• Opportunity: Raise threshold from 0.20 to ~0.26 for better precision\")\n",
    "print(f\"• Trade-off: Higher threshold = fewer false positives = higher precision\")\n",
    "print(f\"• It is impossible to have 100% precision with current data !\")"
   ]
  },
  {
   "cell_type": "code",
   "execution_count": 46,
   "metadata": {},
   "outputs": [
    {
     "name": "stdout",
     "output_type": "stream",
     "text": [
      "Testing thresholds between 0.20 and 0.30 for precision optimization...\n",
      "Threshold 0.200: Precision=0.773, Recall=1.000, F1=0.872, Flagged=22\n",
      "Threshold 0.205: Precision=0.773, Recall=1.000, F1=0.872, Flagged=22\n",
      "Threshold 0.210: Precision=0.773, Recall=1.000, F1=0.872, Flagged=22\n",
      "Threshold 0.215: Precision=0.773, Recall=1.000, F1=0.872, Flagged=22\n",
      "Threshold 0.220: Precision=0.773, Recall=1.000, F1=0.872, Flagged=22\n",
      "Threshold 0.225: Precision=0.773, Recall=1.000, F1=0.872, Flagged=22\n",
      "Threshold 0.230: Precision=0.773, Recall=1.000, F1=0.872, Flagged=22\n",
      "Threshold 0.235: Precision=0.773, Recall=1.000, F1=0.872, Flagged=22\n",
      "Threshold 0.240: Precision=0.773, Recall=1.000, F1=0.872, Flagged=22\n",
      "Threshold 0.245: Precision=0.773, Recall=1.000, F1=0.872, Flagged=22\n",
      "Threshold 0.250: Precision=0.773, Recall=1.000, F1=0.872, Flagged=22\n",
      "Threshold 0.255: Precision=0.773, Recall=1.000, F1=0.872, Flagged=22\n",
      "Threshold 0.260: Precision=0.762, Recall=0.941, F1=0.842, Flagged=21\n",
      "Threshold 0.265: Precision=0.762, Recall=0.941, F1=0.842, Flagged=21\n",
      "Threshold 0.270: Precision=0.762, Recall=0.941, F1=0.842, Flagged=21\n",
      "Threshold 0.275: Precision=0.762, Recall=0.941, F1=0.842, Flagged=21\n",
      "Threshold 0.280: Precision=0.762, Recall=0.941, F1=0.842, Flagged=21\n",
      "Threshold 0.285: Precision=0.762, Recall=0.941, F1=0.842, Flagged=21\n",
      "Threshold 0.290: Precision=0.762, Recall=0.941, F1=0.842, Flagged=21\n",
      "Threshold 0.295: Precision=0.762, Recall=0.941, F1=0.842, Flagged=21\n",
      "Threshold 0.300: Precision=0.762, Recall=0.941, F1=0.842, Flagged=21\n",
      "Threshold 0.305: Precision=0.762, Recall=0.941, F1=0.842, Flagged=21\n",
      "\n",
      "OPTIMAL THRESHOLD FOUND:\n",
      "Threshold: 0.200\n",
      "Precision: 0.773\n",
      "Recall: 1.000\n",
      "F1: 0.872\n",
      "Total calls flagged: 22\n",
      "Precision improvement: +0.0%\n"
     ]
    }
   ],
   "source": [
    "# Advanced Threshold Analysis Based on Probability Distribution\n",
    "print(\"Testing thresholds between 0.20 and 0.30 for precision optimization...\")\n",
    "\n",
    "detailed_thresholds = np.arange(0.20, 0.31, 0.005)  # Fine-grained search\n",
    "results = []\n",
    "\n",
    "for threshold in detailed_thresholds:\n",
    "    pred = (y_pred_proba >= threshold).astype(int)\n",
    "    prec = precision_score(y_test, pred)\n",
    "    rec = recall_score(y_test, pred)\n",
    "    f1 = f1_score(y_test, pred)\n",
    "    \n",
    "    results.append({\n",
    "        'threshold': threshold,\n",
    "        'precision': prec,\n",
    "        'recall': rec,\n",
    "        'f1': f1,\n",
    "        'total_flagged': sum(pred)\n",
    "    })\n",
    "    \n",
    "    print(f\"Threshold {threshold:.3f}: Precision={prec:.3f}, Recall={rec:.3f}, F1={f1:.3f}, Flagged={sum(pred)}\")\n",
    "\n",
    "# Find the highest precision while maintaining 100% recall\n",
    "best_result = None\n",
    "for result in results:\n",
    "    if result['recall'] >= 0.999:  # 100% recall\n",
    "        if best_result is None or result['precision'] > best_result['precision']:\n",
    "            best_result = result\n",
    "\n",
    "if best_result:\n",
    "    print(f\"\\nOPTIMAL THRESHOLD FOUND:\")\n",
    "    print(f\"Threshold: {best_result['threshold']:.3f}\")\n",
    "    print(f\"Precision: {best_result['precision']:.3f}\")\n",
    "    print(f\"Recall: {best_result['recall']:.3f}\")\n",
    "    print(f\"F1: {best_result['f1']:.3f}\")\n",
    "    print(f\"Total calls flagged: {best_result['total_flagged']}\")\n",
    "    \n",
    "    improvement = (best_result['precision'] - orig_prec) * 100\n",
    "    print(f\"Precision improvement: +{improvement:.1f}%\")"
   ]
  },
  {
   "cell_type": "markdown",
   "metadata": {},
   "source": [
    "# 14. The First model is already optimal with overall features! "
   ]
  },
  {
   "cell_type": "markdown",
   "metadata": {},
   "source": [
    "# 15. Add some more features\n",
    "To see if we can make the precision any better, i.e., better classification."
   ]
  },
  {
   "cell_type": "code",
   "execution_count": 47,
   "metadata": {},
   "outputs": [
    {
     "name": "stdout",
     "output_type": "stream",
     "text": [
      "=== EXTRACTING SEGMENT FEATURES ===\n",
      "Extracting segment features for train set...\n",
      "Extracting segment features for test set...\n",
      "Original features: 66\n",
      "With segments: 198\n",
      "New segment features added: 132\n"
     ]
    }
   ],
   "source": [
    "# Extract segment-level features\n",
    "print(\"=== EXTRACTING SEGMENT FEATURES ===\")\n",
    "\n",
    "def extract_segment_features(row):\n",
    "    features = {}\n",
    "    \n",
    "    # Extract overall features (keep existing)\n",
    "    for col in ['channel_1', 'channel_2', 'ratios']:\n",
    "        if isinstance(row[col], dict) and 'overall' in row[col]:\n",
    "            overall = row[col]['overall']\n",
    "            for k, v in overall.items():\n",
    "                features[f\"{col}_overall_{k}\"] = v\n",
    "    \n",
    "    # NEW: Extract segment features\n",
    "    for col in ['channel_1', 'channel_2']:\n",
    "        if isinstance(row[col], dict) and 'segments' in row[col]:\n",
    "            segments = row[col]['segments']\n",
    "            \n",
    "            # Extract each segment (segment_1, segment_2, segment_3)\n",
    "            for seg_name, seg_data in segments.items():\n",
    "                if isinstance(seg_data, dict):\n",
    "                    for k, v in seg_data.items():\n",
    "                        features[f\"{col}_{seg_name}_{k}\"] = v\n",
    "    \n",
    "    return pd.Series(features)\n",
    "\n",
    "# Extract features with segments\n",
    "print(\"Extracting segment features for train set...\")\n",
    "train_features_with_segments = train_df.apply(extract_segment_features, axis=1)\n",
    "\n",
    "print(\"Extracting segment features for test set...\")\n",
    "test_features_with_segments = test_df.apply(extract_segment_features, axis=1)\n",
    "\n",
    "print(f\"Original features: {train_features.shape[1]}\")\n",
    "print(f\"With segments: {train_features_with_segments.shape[1]}\")\n",
    "print(f\"New segment features added: {train_features_with_segments.shape[1] - train_features.shape[1]}\")"
   ]
  },
  {
   "cell_type": "code",
   "execution_count": 48,
   "metadata": {},
   "outputs": [
    {
     "name": "stdout",
     "output_type": "stream",
     "text": [
      "\n",
      "=== PREPROCESSING SEGMENT FEATURES ===\n",
      "=== Preprocessing Features ===\n",
      "Removing 10 constant columns: ['channel_1_overall_db_max', 'channel_2_overall_db_max', 'ratios_overall_db_max', 'channel_1_segment_1_db_max', 'channel_1_segment_2_db_max', 'channel_1_segment_3_db_max', 'channel_2_segment_1_db_max', 'channel_2_segment_1_laughter', 'channel_2_segment_2_db_max', 'channel_2_segment_3_db_max']\n",
      "Removing 1 high-missing columns: ['ratios_overall_db_max']\n",
      "Total columns to remove: ['ratios_overall_db_max', 'channel_1_segment_1_db_max', 'channel_2_segment_2_db_max', 'channel_2_segment_3_db_max', 'channel_1_segment_2_db_max', 'channel_2_overall_db_max', 'channel_2_segment_1_db_max', 'channel_2_segment_1_laughter', 'channel_1_overall_db_max', 'channel_1_segment_3_db_max']\n",
      "Shape before imputation: (716, 188)\n",
      "Missing values before imputation: 181\n",
      "Missing values after imputation: 0\n",
      "Final preprocessed shape: (716, 188)\n",
      "Final segment dataset shape: (716, 188)\n"
     ]
    }
   ],
   "source": [
    "# Preprocess the expanded feature set\n",
    "print(\"\\n=== PREPROCESSING SEGMENT FEATURES ===\")\n",
    "\n",
    "X_train_segments, X_test_segments, imputer_seg, scaler_seg = preprocess_features(\n",
    "    train_features_with_segments, \n",
    "    test_features_with_segments\n",
    ")\n",
    "\n",
    "print(f\"Final segment dataset shape: {X_train_segments.shape}\")"
   ]
  },
  {
   "cell_type": "code",
   "execution_count": 49,
   "metadata": {},
   "outputs": [
    {
     "name": "stdout",
     "output_type": "stream",
     "text": [
      "\n",
      "=== TRAINING MODEL WITH SEGMENT FEATURES ===\n",
      "Segment model training completed!\n"
     ]
    }
   ],
   "source": [
    "# Train model with segment features\n",
    "print(\"\\n=== TRAINING MODEL WITH SEGMENT FEATURES ===\")\n",
    "\n",
    "clf_segments = RandomForestClassifier(\n",
    "    class_weight='balanced',\n",
    "    n_estimators=200,\n",
    "    max_depth=20,  # Deeper for more complex patterns\n",
    "    random_state=42,\n",
    "    n_jobs=-1\n",
    ")\n",
    "\n",
    "clf_segments.fit(X_train_segments, y_train)\n",
    "\n",
    "# Make predictions\n",
    "y_pred_proba_segments = clf_segments.predict_proba(X_test_segments)[:, 1]\n",
    "\n",
    "print(\"Segment model training completed!\")"
   ]
  },
  {
   "cell_type": "code",
   "execution_count": 50,
   "metadata": {},
   "outputs": [
    {
     "name": "stdout",
     "output_type": "stream",
     "text": [
      "\n",
      "=== OPTIMIZING THRESHOLD FOR SEGMENT MODEL ===\n",
      "Optimal threshold for 100% recall: 0.170\n",
      "Precision at 100% recall: 0.739\n",
      "\n",
      "Segment Model Results:\n",
      "  Accuracy: 0.966\n",
      "  F1 Score: 0.850\n",
      "  Precision: 0.739\n",
      "  Recall: 1.000\n"
     ]
    },
    {
     "name": "stderr",
     "output_type": "stream",
     "text": [
      "/home/jieqiang/miniconda3/lib/python3.13/site-packages/sklearn/metrics/_classification.py:1706: UndefinedMetricWarning: Precision is ill-defined and being set to 0.0 due to no predicted samples. Use `zero_division` parameter to control this behavior.\n",
      "  _warn_prf(average, modifier, f\"{metric.capitalize()} is\", result.shape[0])\n"
     ]
    }
   ],
   "source": [
    "# Find optimal threshold for segment model\n",
    "print(\"\\n=== OPTIMIZING THRESHOLD FOR SEGMENT MODEL ===\")\n",
    "\n",
    "thresholds = np.arange(0.05, 0.95, 0.01)\n",
    "f1_scores_segments = []\n",
    "precision_scores_segments = []\n",
    "recall_scores_segments = []\n",
    "\n",
    "for threshold in thresholds:\n",
    "    y_pred_threshold = (y_pred_proba_segments >= threshold).astype(int)\n",
    "    f1 = f1_score(y_test, y_pred_threshold)\n",
    "    precision = precision_score(y_test, y_pred_threshold)\n",
    "    recall = recall_score(y_test, y_pred_threshold)\n",
    "    \n",
    "    f1_scores_segments.append(f1)\n",
    "    precision_scores_segments.append(precision)\n",
    "    recall_scores_segments.append(recall)\n",
    "\n",
    "# Find threshold that gives 100% recall with highest precision\n",
    "recall_100_indices = [i for i, r in enumerate(recall_scores_segments) if r >= 0.999]\n",
    "if recall_100_indices:\n",
    "    best_precision_idx = max(recall_100_indices, key=lambda i: precision_scores_segments[i])\n",
    "    best_threshold_segments = thresholds[best_precision_idx]\n",
    "    best_precision_segments = precision_scores_segments[best_precision_idx]\n",
    "    \n",
    "    print(f\"Optimal threshold for 100% recall: {best_threshold_segments:.3f}\")\n",
    "    print(f\"Precision at 100% recall: {best_precision_segments:.3f}\")\n",
    "\n",
    "# Apply optimal threshold\n",
    "y_pred_optimized_segments = (y_pred_proba_segments >= best_threshold_segments).astype(int)\n",
    "\n",
    "segments_acc = accuracy_score(y_test, y_pred_optimized_segments)\n",
    "segments_f1 = f1_score(y_test, y_pred_optimized_segments)\n",
    "segments_prec = precision_score(y_test, y_pred_optimized_segments)\n",
    "segments_rec = recall_score(y_test, y_pred_optimized_segments)\n",
    "\n",
    "print(f\"\\nSegment Model Results:\")\n",
    "print(f\"  Accuracy: {segments_acc:.3f}\")\n",
    "print(f\"  F1 Score: {segments_f1:.3f}\")\n",
    "print(f\"  Precision: {segments_prec:.3f}\")\n",
    "print(f\"  Recall: {segments_rec:.3f}\")"
   ]
  },
  {
   "cell_type": "code",
   "execution_count": 51,
   "metadata": {},
   "outputs": [
    {
     "name": "stdout",
     "output_type": "stream",
     "text": [
      "\n",
      "======================================================================\n",
      "SEGMENT FEATURES vs OVERALL FEATURES COMPARISON\n",
      "======================================================================\n",
      "Model                | Features   | Precision  | Recall   | F1       | Improvement\n",
      "----------------------------------------------------------------------\n",
      "Overall Only         | 63         | 0.773      | 1.000    | 0.872    | Baseline\n",
      "With Segments        | 188        | 0.739      | 1.000    | 0.850    | -3.4%\n",
      "\n",
      "Segment features didn't improve precision significantly\n",
      "The overall features already capture the key patterns\n"
     ]
    }
   ],
   "source": [
    "# Compare with original model\n",
    "print(\"\\n\" + \"=\"*70)\n",
    "print(\"SEGMENT FEATURES vs OVERALL FEATURES COMPARISON\")\n",
    "print(\"=\"*70)\n",
    "\n",
    "print(f\"{'Model':<20} | {'Features':<10} | {'Precision':<10} | {'Recall':<8} | {'F1':<8} | {'Improvement'}\")\n",
    "print(\"-\" * 70)\n",
    "\n",
    "print(f\"{'Overall Only':<20} | {X_train.shape[1]:<10} | {orig_prec:<10.3f} | {orig_rec:<8.3f} | {orig_f1:<8.3f} | Baseline\")\n",
    "print(f\"{'With Segments':<20} | {X_train_segments.shape[1]:<10} | {segments_prec:<10.3f} | {segments_rec:<8.3f} | {segments_f1:<8.3f} | {(segments_prec-orig_prec)*100:+.1f}%\")\n",
    "\n",
    "if segments_prec > orig_prec:\n",
    "    print(f\"\\nSegment features improved precision by {(segments_prec-orig_prec)*100:.1f}%\")\n",
    "    print(f\"Business impact: Reduced false positive rate from {(1-orig_prec)*100:.1f}% to {(1-segments_prec)*100:.1f}%\")\n",
    "else:\n",
    "    print(f\"\\nSegment features didn't improve precision significantly\")\n",
    "    print(f\"The overall features already capture the key patterns\")"
   ]
  },
  {
   "cell_type": "markdown",
   "metadata": {},
   "source": [
    "# 16. Again, the First model is optimal. "
   ]
  },
  {
   "cell_type": "code",
   "execution_count": 52,
   "metadata": {},
   "outputs": [
    {
     "name": "stdout",
     "output_type": "stream",
     "text": [
      "\n",
      "====================================================================================================\n",
      "COMPREHENSIVE MODEL COMPARISON - ALL APPROACHES TESTED\n",
      "====================================================================================================\n",
      "Metric          | Original RF  | Advanced RF  | Top 15 RF   | XGBoost    | LightGBM   | Segments RF  | Best Model\n",
      "----------------------------------------------------------------------------------------------------\n",
      "Accuracy        | 0.972        | 0.972        | 0.966       | 0.966      | 0.966      | 0.966        | Original RF\n",
      "F1 Score        | 0.872        | 0.872        | 0.850       | 0.850      | 0.850      | 0.850        | Original RF\n",
      "Precision       | 0.773        | 0.773        | 0.739       | 0.739      | 0.739      | 0.739        | Original RF\n",
      "Recall          | 1.000        | 1.000        | 1.000       | 1.000      | 1.000      | 1.000        | Original RF\n",
      "\n",
      "Model Details:\n",
      "• Original RF:  63 features, threshold=0.20\n",
      "• Advanced RF:  63 features, threshold=0.50\n",
      "• Top 15 RF:    15 features, threshold=0.25\n",
      "• XGBoost:      63 features, threshold=0.10\n",
      "• LightGBM:     63 features, threshold=0.10\n",
      "• Segments RF:  188 features, threshold=0.17\n",
      "\n",
      "Algorithm Performance Summary:\n",
      "• RandomForest variants: 3 models tested\n",
      "  - Best precision: 0.773 (Original/Advanced)\n",
      "  - Consistency: Very stable across hyperparameter settings\n",
      "• Gradient Boosting: 2 models tested\n",
      "  - Best precision: 0.739 (XGBoost/LightGBM)\n",
      "  - Trade-off: Higher F1 but lower precision\n",
      "• Feature Engineering: 1 model tested\n",
      "  - Segments precision: 0.739\n",
      "  - Result: Adding complexity reduced performance\n",
      "\n",
      " WINNER ANALYSIS:\n",
      " Original RandomForest wins with 0.773 precision\n",
      "   • Simple, interpretable, and optimal\n",
      "   • 63 features with balanced class weights\n",
      "   • Threshold 0.20 provides perfect recall\n",
      "\n",
      " KEY INSIGHTS:\n",
      "• All models achieve 100% recall (perfect sales opportunity capture)\n",
      "• Precision varies from 0.739 to 0.773\n",
      "• Feature complexity doesn't improve performance (63 features optimal)\n",
      "• Algorithm complexity doesn't improve precision (RandomForest optimal)\n",
      "• Threshold optimization is crucial (varies from 0.10 to 0.50)\n"
     ]
    }
   ],
   "source": [
    "# Full comparison of all models tested (excluding precision-targeted ones)\n",
    "print(\"\\n\" + \"=\"*100)\n",
    "print(\"COMPREHENSIVE MODEL COMPARISON - ALL APPROACHES TESTED\")\n",
    "print(\"=\"*100)\n",
    "\n",
    "print(f\"{'Metric':<15} | {'Original RF':<12} | {'Advanced RF':<12} | {'Top 15 RF':<11} | {'XGBoost':<10} | {'LightGBM':<10} | {'Segments RF':<12} | {'Best Model'}\")\n",
    "print(\"-\" * 100)\n",
    "\n",
    "def get_best_model_name(orig, adv, top15, xgb, lgb, segments):\n",
    "    values = [orig, adv, top15, xgb, lgb, segments]\n",
    "    models = [\"Original RF\", \"Advanced RF\", \"Top 15 RF\", \"XGBoost\", \"LightGBM\", \"Segments RF\"]\n",
    "    return models[values.index(max(values))]\n",
    "\n",
    "print(f\"{'Accuracy':<15} | {orig_acc:<12.3f} | {adv_acc:<12.3f} | {top15_acc:<11.3f} | {xgb_acc:<10.3f} | {lgb_acc:<10.3f} | {segments_acc:<12.3f} | {get_best_model_name(orig_acc, adv_acc, top15_acc, xgb_acc, lgb_acc, segments_acc)}\")\n",
    "print(f\"{'F1 Score':<15} | {orig_f1:<12.3f} | {adv_f1:<12.3f} | {top15_f1:<11.3f} | {xgb_f1:<10.3f} | {lgb_f1:<10.3f} | {segments_f1:<12.3f} | {get_best_model_name(orig_f1, adv_f1, top15_f1, xgb_f1, lgb_f1, segments_f1)}\")\n",
    "print(f\"{'Precision':<15} | {orig_prec:<12.3f} | {adv_prec:<12.3f} | {top15_prec:<11.3f} | {xgb_prec:<10.3f} | {lgb_prec:<10.3f} | {segments_prec:<12.3f} | {get_best_model_name(orig_prec, adv_prec, top15_prec, xgb_prec, lgb_prec, segments_prec)}\")\n",
    "print(f\"{'Recall':<15} | {orig_rec:<12.3f} | {adv_rec:<12.3f} | {top15_rec:<11.3f} | {xgb_rec:<10.3f} | {lgb_rec:<10.3f} | {segments_rec:<12.3f} | {get_best_model_name(orig_rec, adv_rec, top15_rec, xgb_rec, lgb_rec, segments_rec)}\")\n",
    "\n",
    "print(f\"\\nModel Details:\")\n",
    "print(f\"• Original RF:  {X_train.shape[1]} features, threshold={0.20:.2f}\")\n",
    "print(f\"• Advanced RF:  {X_train.shape[1]} features, threshold={best_threshold_advanced:.2f}\")\n",
    "print(f\"• Top 15 RF:    {15} features, threshold={best_threshold_top15:.2f}\")\n",
    "print(f\"• XGBoost:      {X_train.shape[1]} features, threshold={best_threshold_xgb:.2f}\")\n",
    "print(f\"• LightGBM:     {X_train.shape[1]} features, threshold={best_threshold_lgb:.2f}\")\n",
    "print(f\"• Segments RF:  {X_train_segments.shape[1]} features, threshold={best_threshold_segments:.2f}\")\n",
    "\n",
    "print(f\"\\nAlgorithm Performance Summary:\")\n",
    "print(f\"• RandomForest variants: 3 models tested\")\n",
    "print(f\"  - Best precision: {max(orig_prec, adv_prec, top15_prec):.3f} (Original/Advanced)\")\n",
    "print(f\"  - Consistency: Very stable across hyperparameter settings\")\n",
    "print(f\"• Gradient Boosting: 2 models tested\")\n",
    "print(f\"  - Best precision: {max(xgb_prec, lgb_prec):.3f} (XGBoost/LightGBM)\")\n",
    "print(f\"  - Trade-off: Higher F1 but lower precision\")\n",
    "print(f\"• Feature Engineering: 1 model tested\")\n",
    "print(f\"  - Segments precision: {segments_prec:.3f}\")\n",
    "print(f\"  - Result: Adding complexity reduced performance\")\n",
    "\n",
    "print(f\"\\n WINNER ANALYSIS:\")\n",
    "winner_precision = max(orig_prec, adv_prec, top15_prec, xgb_prec, lgb_prec, segments_prec)\n",
    "if winner_precision == orig_prec:\n",
    "    print(f\" Original RandomForest wins with {orig_prec:.3f} precision\")\n",
    "    print(f\"   • Simple, interpretable, and optimal\")\n",
    "    print(f\"   • 63 features with balanced class weights\")\n",
    "    print(f\"   • Threshold 0.20 provides perfect recall\")\n",
    "elif winner_precision == adv_prec:\n",
    "    print(f\" Advanced RandomForest ties with {adv_prec:.3f} precision\")\n",
    "    print(f\"   • Hyperparameter tuning validated the original settings\")\n",
    "else:\n",
    "    best_model_idx = [orig_prec, adv_prec, top15_prec, xgb_prec, lgb_prec, segments_prec].index(winner_precision)\n",
    "    model_names = [\"Original RF\", \"Advanced RF\", \"Top 15 RF\", \"XGBoost\", \"LightGBM\", \"Segments RF\"]\n",
    "    print(f\" {model_names[best_model_idx]} wins with {winner_precision:.3f} precision\")\n",
    "\n",
    "print(f\"\\n KEY INSIGHTS:\")\n",
    "print(f\"• All models achieve 100% recall (perfect sales opportunity capture)\")\n",
    "print(f\"• Precision varies from {min(segments_prec, xgb_prec, lgb_prec):.3f} to {max(orig_prec, adv_prec):.3f}\")\n",
    "print(f\"• Feature complexity doesn't improve performance (63 features optimal)\")\n",
    "print(f\"• Algorithm complexity doesn't improve precision (RandomForest optimal)\")\n",
    "print(f\"• Threshold optimization is crucial (varies from 0.10 to 0.50)\")"
   ]
  }
 ],
 "metadata": {
  "kernelspec": {
   "display_name": "base conda",
   "language": "python",
   "name": "base"
  },
  "language_info": {
   "codemirror_mode": {
    "name": "ipython",
    "version": 3
   },
   "file_extension": ".py",
   "mimetype": "text/x-python",
   "name": "python",
   "nbconvert_exporter": "python",
   "pygments_lexer": "ipython3",
   "version": "3.13.2"
  },
  "orig_nbformat": 4
 },
 "nbformat": 4,
 "nbformat_minor": 2
}
